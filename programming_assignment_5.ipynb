{
 "cells": [
  {
   "cell_type": "code",
   "execution_count": 30,
   "id": "elect-colorado",
   "metadata": {},
   "outputs": [
    {
     "name": "stdout",
     "output_type": "stream",
     "text": [
      "Enter The Number 25 30 35 40\n",
      "[25, 30, 35, 40]  lcm is  4200\n"
     ]
    }
   ],
   "source": [
    "#1.\tWrite a Python Program to Find LCM?\n",
    "s=input(\"Enter The Number \").split()\n",
    "l=[int(i) for i in s]\n",
    "\n",
    "def lcm(a,b):\n",
    "    l1=a\n",
    "    while(1):\n",
    "        if l1%a==0 and l1%b==0:\n",
    "            lcm=l1\n",
    "            break\n",
    "        l1=l1+1\n",
    "    return lcm\n",
    "\n",
    "\n",
    "for i in range(len(l)-1):\n",
    "    if i==0:\n",
    "        n=lcm(l[i],l[i+1])\n",
    "    else:\n",
    "        n=lcm(n,l[i+1])\n",
    "print(l,\" lcm is \",n)\n",
    "\n",
    "            "
   ]
  },
  {
   "cell_type": "code",
   "execution_count": 31,
   "id": "personal-actress",
   "metadata": {},
   "outputs": [
    {
     "name": "stdout",
     "output_type": "stream",
     "text": [
      "Enter The Number 45 56 67\n",
      "[45, 56, 67]  hcf is  1\n"
     ]
    }
   ],
   "source": [
    "#2.\tWrite a Python Program to Find HCF?\n",
    "s=input(\"Enter The Number \").split()\n",
    "l=[int(i) for i in s]\n",
    "\n",
    "def lcm(a,b):\n",
    "    l1=a\n",
    "    while(1):\n",
    "        if l1%a==0 and l1%b==0:\n",
    "            lcm=l1\n",
    "            break\n",
    "        l1=l1+1\n",
    "    return (a*b)//lcm  #find the hcf here  hcf=(a*b)/lcm\n",
    "\n",
    "\n",
    "for i in range(len(l)-1):\n",
    "    if i==0:\n",
    "        n=lcm(l[i],l[i+1])\n",
    "    else:\n",
    "        n=lcm(n,l[i+1])\n",
    "print(l,\" hcf is \",n)\n",
    "\n",
    "            "
   ]
  },
  {
   "cell_type": "code",
   "execution_count": 38,
   "id": "worse-marking",
   "metadata": {},
   "outputs": [
    {
     "name": "stdout",
     "output_type": "stream",
     "text": [
      "enter the Decimal 45\n",
      "45 0b101101 in binary.\n",
      "45 0o55 in octal.\n",
      "45 0x2d in hexadecimal.\n"
     ]
    }
   ],
   "source": [
    "#3.\tWrite a Python Program to Convert Decimal to Binary, Octal and Hexadecimal?\n",
    "\n",
    "decimal = int(input(\"enter the Decimal \"))\n",
    "\n",
    "print(decimal,bin(decimal), \"in binary.\")\n",
    "print(decimal,oct(decimal), \"in octal.\")\n",
    "print(decimal,hex(decimal), \"in hexadecimal.\")"
   ]
  },
  {
   "cell_type": "code",
   "execution_count": 33,
   "id": "treated-excess",
   "metadata": {},
   "outputs": [
    {
     "name": "stdout",
     "output_type": "stream",
     "text": [
      "Enter The Character f\n",
      "The ASCII value of 'f' is 102\n"
     ]
    }
   ],
   "source": [
    "# 4.\tWrite a Python Program To Find ASCII value of a character?\n",
    "\n",
    "asc=input(\"Enter The Character \")\n",
    "print(\"The ASCII value of '\" + asc + \"' is\", ord(asc))\n",
    "A=65\n"
   ]
  },
  {
   "cell_type": "code",
   "execution_count": 39,
   "id": "important-mailing",
   "metadata": {},
   "outputs": [
    {
     "name": "stdout",
     "output_type": "stream",
     "text": [
      "enter the first number3\n",
      "enter the first number4\n",
      "1.addition  2.Multiplication  3.Division   4 .square root\n",
      "Enter the choice1\n",
      "addition is 7\n"
     ]
    }
   ],
   "source": [
    "#5.\tWrite a Python Program to Make a Simple Calculator with 4 basic mathematical operations?\n",
    "a=int(input(\"enter the first number\"))\n",
    "b=int(input(\"enter the first number\"))\n",
    "print(\"1.addition  2.Multiplication  3.Division   4 .square root\")\n",
    "ch=input(\"Enter the choice\")\n",
    "if ch=='1':\n",
    "    print(\"addition is\",a+b)\n",
    "elif ch=='2':\n",
    "    print(\"multiplication is\",a*b)\n",
    "elif ch=='3':\n",
    "    print('division is ',a/b)\n",
    "elif ch=='4':\n",
    "    print('square root is',a**b)\n",
    "else:\n",
    "    print(\"you have enter the wrong choice\")\n"
   ]
  },
  {
   "cell_type": "code",
   "execution_count": null,
   "id": "marine-economy",
   "metadata": {},
   "outputs": [],
   "source": []
  }
 ],
 "metadata": {
  "kernelspec": {
   "display_name": "Python 3",
   "language": "python",
   "name": "python3"
  },
  "language_info": {
   "codemirror_mode": {
    "name": "ipython",
    "version": 3
   },
   "file_extension": ".py",
   "mimetype": "text/x-python",
   "name": "python",
   "nbconvert_exporter": "python",
   "pygments_lexer": "ipython3",
   "version": "3.9.2"
  }
 },
 "nbformat": 4,
 "nbformat_minor": 5
}
