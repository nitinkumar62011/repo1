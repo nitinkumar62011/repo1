{
 "cells": [
  {
   "cell_type": "markdown",
   "id": "celtic-rough",
   "metadata": {},
   "source": [
    "(1). ans * --> it is a multiple operator so it is expression\n",
    "\"hello' --> it is a literal value type is str\n",
    "-87.8 --> it is float data type value\n",
    "- --> it is minus operator so it is expression\n",
    "/ --> it is float division operator so it is expression\n",
    ". --> it is dot operator so it is a expression and we have also to use as a decimal point so it may be value\n",
    "6 --> it is a value and type is  int\n",
    "\n"
   ]
  },
  {
   "cell_type": "markdown",
   "id": "devoted-housing",
   "metadata": {},
   "source": [
    "(2) ans\n",
    "string --> it is sequence of charactor and group of charactor and string is iterable and its written in the single,double and triple quotes\n",
    "example is a=\"nitin kumar\"\n",
    "variable --> it is a space where is store the any type of data and intilize the data .like it is the box where the hold or store the any thing. example is \n",
    "b=10 here b is variable and after we can again change the value of variable b\n",
    "b=30 so now is varible b is value is 30."
   ]
  },
  {
   "cell_type": "markdown",
   "id": "configured-anxiety",
   "metadata": {},
   "source": [
    "(3).\n",
    "we have generally two types of data type in pre-defined or inbuilt in the python library  and 3 is user defined data type \n",
    "1. premitive data type-->it is a basic type of data type which is present in python library. Example is int,float,double,str,chr.\n",
    "2.non premitive data type--. it is store the group of premitive datatype and it is also inbuilt in the python library . such as list,tuple,dict,set,object\n",
    "3.user defined data type --> which is generally defined by the user help of class and object"
   ]
  },
  {
   "cell_type": "markdown",
   "id": "variable-hollywood",
   "metadata": {},
   "source": [
    "(4) ans.\n",
    "In fact,when the expression made than we have operand and operator that time we can create expression help of operator and opearand.\n",
    "Expression will do addition ,multiplication ,division,remender and some other logical , conditional and assignment operation and also bitwise operation "
   ]
  },
  {
   "cell_type": "markdown",
   "id": "opening-identity",
   "metadata": {},
   "source": [
    "(6) ans.\n",
    "expession is contain the operator and operand and it's reduce the value,in this case spam=10 here expression give the value of 10.\n",
    "statement is line of code or shell of code which is command of any scripting language which is execute entire line at once time and move the next line after executing one statement\n"
   ]
  },
  {
   "cell_type": "markdown",
   "id": "twenty-ecology",
   "metadata": {},
   "source": [
    "(6) ans.\n",
    "here remains the same value who is 22 beacuse here not assign the value when is executing the second statement "
   ]
  },
  {
   "cell_type": "markdown",
   "id": "quarterly-volleyball",
   "metadata": {},
   "source": [
    "(7) ans.\n",
    "'spam'+'spamspam' value is 'spamspamspam'\n",
    "'spam'*3 value is 'spamspamspam'"
   ]
  },
  {
   "cell_type": "markdown",
   "id": "further-antarctica",
   "metadata": {},
   "source": [
    "(8) ans.\n",
    "in python variable naming convenction beacuse we have to start any english alphabatical letter but shuold start with any number so hence  100 is invaild\n",
    "and egg is vaild"
   ]
  },
  {
   "cell_type": "markdown",
   "id": "electronic-multiple",
   "metadata": {},
   "source": [
    "(9) ans.\n",
    "integer --> int()  \n",
    "   floating-point--> float()\n",
    "     string--> str()"
   ]
  },
  {
   "cell_type": "markdown",
   "id": "passive-cleaner",
   "metadata": {},
   "source": [
    "(10) in python does not support concation to another datatype so therefore gives the error here 'i have eaten' is str type of data and 99 is int type of data. yes it can be fixed typecasting of data so 99 is a integer  and it will convert into str type of data\n",
    "'I have eaten '+str(99)+' burritos.'\n"
   ]
  },
  {
   "cell_type": "code",
   "execution_count": null,
   "id": "genuine-pittsburgh",
   "metadata": {},
   "outputs": [],
   "source": []
  }
 ],
 "metadata": {
  "kernelspec": {
   "display_name": "Python 3",
   "language": "python",
   "name": "python3"
  },
  "language_info": {
   "codemirror_mode": {
    "name": "ipython",
    "version": 3
   },
   "file_extension": ".py",
   "mimetype": "text/x-python",
   "name": "python",
   "nbconvert_exporter": "python",
   "pygments_lexer": "ipython3",
   "version": "3.9.2"
  }
 },
 "nbformat": 4,
 "nbformat_minor": 5
}
