{
 "cells": [
  {
   "cell_type": "code",
   "execution_count": 1,
   "id": "30d75423",
   "metadata": {},
   "outputs": [
    {
     "data": {
      "text/plain": [
       "'ans . In the program, when will we use the function that time it will\\navoid the rewrite the same code again and again and another advantage is\\nit create the memory in stack area so it will release the memory so that\\nin the our program used less memory space.\\nunderstandability of the program'"
      ]
     },
     "execution_count": 1,
     "metadata": {},
     "output_type": "execute_result"
    }
   ],
   "source": [
    "#1. Why are functions advantageous to have in your programs?\n",
    "'''ans . In the program, when will we use the function that time it will\n",
    "avoid the rewrite the same code again and again and another advantage is\n",
    "it create the memory in stack area so it will release the memory so that\n",
    "in the our program used less memory space.\n",
    "understandability of the program'''\n"
   ]
  },
  {
   "cell_type": "code",
   "execution_count": 2,
   "id": "a6886caf",
   "metadata": {},
   "outputs": [
    {
     "data": {
      "text/plain": [
       "'ans : when we define the function means implementation of the function\\nthat time it will run the code . specified the function we use the \\nkeyword \"def\" and it called from the inside the main function\\n'"
      ]
     },
     "execution_count": 2,
     "metadata": {},
     "output_type": "execute_result"
    }
   ],
   "source": [
    "#2. When does the code in a function run: when it&#39;s specified or when it&#39;s called?\n",
    "'''ans : when we define the function means implementation of the function\n",
    "that time it will run the code . specified the function we use the \n",
    "keyword \"def\" and it called from the inside the main function\n",
    "'''"
   ]
  },
  {
   "cell_type": "code",
   "execution_count": 3,
   "id": "3d923960",
   "metadata": {},
   "outputs": [
    {
     "data": {
      "text/plain": [
       "\" \\nin python we have keyword 'def ' to create function \\nso statement is : def function_name\\n\""
      ]
     },
     "execution_count": 3,
     "metadata": {},
     "output_type": "execute_result"
    }
   ],
   "source": [
    "#3. What statement creates a function?\n",
    "''' \n",
    "in python we have keyword 'def ' to create function \n",
    "so statement is : def function_name\n",
    "'''"
   ]
  },
  {
   "cell_type": "code",
   "execution_count": 4,
   "id": "ac993fd2",
   "metadata": {},
   "outputs": [
    {
     "data": {
      "text/plain": [
       "'\\nFunction is a piece or block of code where we have write the seperate\\ncode for the particular task .\\nfunction call is a called to function defination or tell the compiler\\nor interprater to exceute the function defination or means the handle \\nthe control over the function\\n'"
      ]
     },
     "execution_count": 4,
     "metadata": {},
     "output_type": "execute_result"
    }
   ],
   "source": [
    "#4. What is the difference between a function and a function call?\n",
    "'''\n",
    "Function is a piece or block of code where we have write the seperate\n",
    "code for the particular task .\n",
    "function call is a called to function defination or tell the compiler\n",
    "or interprater to exceute the function defination or means the handle \n",
    "the control over the function\n",
    "'''"
   ]
  },
  {
   "cell_type": "code",
   "execution_count": 18,
   "id": "3fbc3828",
   "metadata": {},
   "outputs": [
    {
     "name": "stdout",
     "output_type": "stream",
     "text": [
      "nitin\n",
      "9\n",
      "nitin\n"
     ]
    }
   ],
   "source": [
    "#5. How many global scopes are there in a Python program? How many local scopes?\n",
    "'''\n",
    "In the python program we have two types of Global , first one is by default which is written in main program and second is\n",
    " 'global ' keyword . and one type of local scope .\n",
    "\n",
    "'''\n",
    "#Example\n",
    "var=\"nitin\"# by default global\n",
    "def nm():\n",
    "    \n",
    "    global var# using the keyword\n",
    "    print(var)\n",
    "    v=9#local variable\n",
    "    print(v)\n",
    "nm()\n",
    "print(var)"
   ]
  },
  {
   "cell_type": "code",
   "execution_count": 19,
   "id": "593a40d5",
   "metadata": {},
   "outputs": [
    {
     "data": {
      "text/plain": [
       "\"\\nwhen the function call return after that our function is destroy so that's why variable is not exist\\n\\n\""
      ]
     },
     "execution_count": 19,
     "metadata": {},
     "output_type": "execute_result"
    }
   ],
   "source": [
    "#6. What happens to variables in a local scope when the function call returns?\n",
    "'''\n",
    "when the function call return after that our function is destroy so that's why variable is not exist\n",
    "\n",
    "'''"
   ]
  },
  {
   "cell_type": "code",
   "execution_count": 23,
   "id": "9621394a",
   "metadata": {},
   "outputs": [
    {
     "name": "stdout",
     "output_type": "stream",
     "text": [
      "23\n"
     ]
    }
   ],
   "source": [
    "#7. What is the concept of a return value? Is it possible to have a return value in an expression?\n",
    "'''\n",
    "The concept of return value is we can use the value to inside the main program or we need to perform the some operation on the \n",
    "return value and it is possible to return the value in an expression\n",
    "'''\n",
    "def sumw(s,d,f):\n",
    "    return s+d*f#expression\n",
    "a=sumw(3,4,5)\n",
    "print(a)"
   ]
  },
  {
   "cell_type": "code",
   "execution_count": 27,
   "id": "61f6cc9c",
   "metadata": {},
   "outputs": [
    {
     "name": "stdout",
     "output_type": "stream",
     "text": [
      "hi\n",
      "hi\n",
      "None\n"
     ]
    }
   ],
   "source": [
    "#8. If a function does not have a return statement, what is the return value of a call to that function?\n",
    "'''\n",
    "the return value is None or we can say False value but false is different to None value and None value behave like false in the \n",
    "some condition.\n",
    "'''\n",
    "def df():\n",
    "    print(\"hi\")\n",
    "if df():#here first of all call the df function and got the none value so that's why condition is false\n",
    "    print(\"return\")\n",
    "else:\n",
    "    print(df())# execute and print the none "
   ]
  },
  {
   "cell_type": "code",
   "execution_count": 28,
   "id": "9a8ebe99",
   "metadata": {},
   "outputs": [],
   "source": [
    "#9. How do you make a function variable refer to the global variable?\n",
    "'''\n",
    "we have global keyword to make global variable\n",
    "'''"
   ]
  },
  {
   "cell_type": "code",
   "execution_count": 31,
   "id": "36c466e9",
   "metadata": {},
   "outputs": [
    {
     "data": {
      "text/plain": [
       "NoneType"
      ]
     },
     "execution_count": 31,
     "metadata": {},
     "output_type": "execute_result"
    }
   ],
   "source": [
    "#10. What is the data type of None?\n",
    "'''\n",
    "NoneType\n",
    "'''\n",
    "type(None)"
   ]
  },
  {
   "cell_type": "code",
   "execution_count": 34,
   "id": "1e137746",
   "metadata": {},
   "outputs": [
    {
     "data": {
      "text/plain": [
       "'\\nit will call the that package and module in the our program\\n\\n'"
      ]
     },
     "execution_count": 34,
     "metadata": {},
     "output_type": "execute_result"
    }
   ],
   "source": [
    "#11. What does the sentence import are allyourpetsnamederic do?\n",
    "'''\n",
    "it will call the that package and module in the our program\n",
    "\n",
    "'''"
   ]
  },
  {
   "cell_type": "code",
   "execution_count": 32,
   "id": "1bd08c4f",
   "metadata": {},
   "outputs": [
    {
     "data": {
      "text/plain": [
       "'\\nafter we have to use dot membersip operator to call function inside the module.\\nlike spam.bacon()\\n'"
      ]
     },
     "execution_count": 32,
     "metadata": {},
     "output_type": "execute_result"
    }
   ],
   "source": [
    "#12. If you had a bacon() feature in a spam module, what would you call it after importing spam?\n",
    "\n",
    "'''\n",
    "after we have to use dot membersip operator to call function inside the module.\n",
    "like spam.bacon()\n",
    "'''"
   ]
  },
  {
   "cell_type": "code",
   "execution_count": null,
   "id": "0126c9a9",
   "metadata": {},
   "outputs": [],
   "source": [
    "#13. What can you do to save a programme from crashing if it encounters an error?\n",
    "\n",
    "\n",
    "'''\n",
    "we can use exception handling concept like try and except block.\n",
    "\n",
    "'''"
   ]
  },
  {
   "cell_type": "code",
   "execution_count": 33,
   "id": "3da0605a",
   "metadata": {},
   "outputs": [
    {
     "data": {
      "text/plain": [
       "'\\nwhen we have hudge program that time we will not want to crash or error our program so that time except clause to come \\nin picture and that will give the this some kind of error messege and our program will continue run.\\n\\n'"
      ]
     },
     "execution_count": 33,
     "metadata": {},
     "output_type": "execute_result"
    }
   ],
   "source": [
    "#14. What is the purpose of the try clause? What is the purpose of the except clause?\n",
    "'''\n",
    "when we have hudge program that time we will not want to crash or error our program so that time except clause to come \n",
    "in picture and that will give the this some kind of error messege and our program will continue run.\n",
    "\n",
    "'''"
   ]
  },
  {
   "cell_type": "code",
   "execution_count": null,
   "id": "a367d220",
   "metadata": {},
   "outputs": [],
   "source": []
  }
 ],
 "metadata": {
  "kernelspec": {
   "display_name": "Python 3 (ipykernel)",
   "language": "python",
   "name": "python3"
  },
  "language_info": {
   "codemirror_mode": {
    "name": "ipython",
    "version": 3
   },
   "file_extension": ".py",
   "mimetype": "text/x-python",
   "name": "python",
   "nbconvert_exporter": "python",
   "pygments_lexer": "ipython3",
   "version": "3.9.8"
  }
 },
 "nbformat": 4,
 "nbformat_minor": 5
}
