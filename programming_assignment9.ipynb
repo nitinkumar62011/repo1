{
 "cells": [
  {
   "cell_type": "code",
   "execution_count": 38,
   "id": "corresponding-limitation",
   "metadata": {},
   "outputs": [
    {
     "name": "stdout",
     "output_type": "stream",
     "text": [
      "Enter the number4\n",
      "4 number is a Disarium Number\n"
     ]
    }
   ],
   "source": [
    "##### 1.\tWrite a Python program to check if the given number is a Disarium Number?\n",
    "while True:\n",
    "    try:\n",
    "        n=int(input(\"Enter the number\"))\n",
    "        str1=str(n)\n",
    "        length=[i+1 for i in range(len(str1))]\n",
    "        length\n",
    "        sum1=0\n",
    "        for i in range(len(str1)):\n",
    "            sum1=sum1+int(str1[i])**length[i]\n",
    "\n",
    "\n",
    "        if n==sum1:\n",
    "            print(n,\"number is a Disarium Number\")\n",
    "        else:\n",
    "            print(n,'number is not a Disarium Number')\n",
    "        break\n",
    "    except Exception as e:\n",
    "        print(e)\n",
    "        print(\"Enter the again\")\n"
   ]
  },
  {
   "cell_type": "code",
   "execution_count": 39,
   "id": "expensive-standard",
   "metadata": {},
   "outputs": [
    {
     "name": "stdout",
     "output_type": "stream",
     "text": [
      "Enter the range of the number you want\n",
      "Enter the number lowest level 1\n",
      "Enter the number highest level 1000\n",
      "All disarium numbers between  1 and 1000 --> 2 3 4 5 6 7 8 9 89 135 175 518 598 "
     ]
    }
   ],
   "source": [
    "# 2.\tWrite a Python program to print all disarium numbers between 1 to 100?\n",
    "def Disarium(num):\n",
    "    str1=str(num)\n",
    "    length=[i+1 for i in range(len(str1))]\n",
    "    length\n",
    "    sum1=0\n",
    "    for i in range(len(str1)):\n",
    "        sum1=sum1+int(str1[i])**length[i]\n",
    "    return sum1\n",
    "\n",
    "while True:\n",
    "    try:\n",
    "        print(\"Enter the range of the number you want\")\n",
    "        n1=int(input(\"Enter the number lowest level \"))\n",
    "        n2=int(input(\"Enter the number highest level \"))\n",
    "        l=[n1,n2]\n",
    "        l.sort()\n",
    "        result=[]\n",
    "        for i in range(l[0]+1,l[1]):\n",
    "            if i==Disarium(i):\n",
    "                result.append(i)\n",
    "        print(\"All disarium numbers between \",l[0],'and',l[1],'-->',end=' ')\n",
    "        for i in result:\n",
    "            print(i,end=' ')\n",
    "        break\n",
    "    except Exception as e:\n",
    "        print(e)\n",
    "        print(\"Enter the again\")   "
   ]
  },
  {
   "cell_type": "code",
   "execution_count": 54,
   "id": "saving-reward",
   "metadata": {},
   "outputs": [
    {
     "data": {
      "text/plain": [
       "[[0, 0, 0], [0, 1, 2]]"
      ]
     },
     "execution_count": 54,
     "metadata": {},
     "output_type": "execute_result"
    }
   ],
   "source": [
    "temp=[]\n",
    "for i in range(3):\n",
    "    temp.append(i)\n",
    "fg.append(temp)\n",
    "fg"
   ]
  },
  {
   "cell_type": "code",
   "execution_count": 55,
   "id": "decent-warrant",
   "metadata": {},
   "outputs": [
    {
     "data": {
      "text/plain": [
       "[[0, 0, 0], [0, 1, 2]]"
      ]
     },
     "execution_count": 55,
     "metadata": {},
     "output_type": "execute_result"
    }
   ],
   "source": [
    "fg"
   ]
  },
  {
   "cell_type": "code",
   "execution_count": 7,
   "id": "08cd9bd4",
   "metadata": {},
   "outputs": [
    {
     "name": "stdout",
     "output_type": "stream",
     "text": [
      "Enter the number82\n",
      "68\n",
      "82 is not happy\n"
     ]
    }
   ],
   "source": [
    "# 4 Write a Python program to print all happy numbers\n",
    "def Happy_number(n):\n",
    "    s=0\n",
    "    r=0\n",
    "    while(n > 0):    \n",
    "        r = n%10   \n",
    "        s = s + r**2    \n",
    "        n = n//10   \n",
    "    return s\n",
    "n=int(input(\"Enter the number\"))\n",
    "a=Happy_number(n)\n",
    "print(a)\n",
    "if a==1:\n",
    "    print(n, \"is happy\")\n",
    "else:\n",
    "    print(n,\"is not happy\")"
   ]
  },
  {
   "cell_type": "code",
   "execution_count": 5,
   "id": "77d8d065",
   "metadata": {},
   "outputs": [
    {
     "name": "stdout",
     "output_type": "stream",
     "text": [
      "82\n",
      "happy number\n"
     ]
    }
   ],
   "source": [
    "#5Write a Python program to print all happy numbers between 1 and 100?"
   ]
  },
  {
   "cell_type": "code",
   "execution_count": 1,
   "id": "a73ba5a1",
   "metadata": {},
   "outputs": [
    {
     "name": "stdout",
     "output_type": "stream",
     "text": [
      "Enter the range of the number you want\n",
      "Enter the number lowest level 1\n",
      "Enter the number highest level 100\n",
      "All happy numbers between  1 and 100 --> 10 "
     ]
    }
   ],
   "source": [
    "def happy(n):\n",
    "    s=0\n",
    "    r=0\n",
    "    while(n > 0):    \n",
    "        r = n%10   \n",
    "        s = s + r**2    \n",
    "        n = n//10   \n",
    "    return s\n",
    "\n",
    "while True:\n",
    "    try:\n",
    "        print(\"Enter the range of the number you want\")\n",
    "        n1=int(input(\"Enter the number lowest level \"))\n",
    "        n2=int(input(\"Enter the number highest level \"))\n",
    "        l=[n1,n2]\n",
    "        l.sort()\n",
    "        result=[]\n",
    "        for i in range(l[0]+1,l[1]):\n",
    "            if 1==happy(i):\n",
    "                result.append(i)\n",
    "        print(\"All happy numbers between \",l[0],'and',l[1],'-->',end=' ')\n",
    "        for i in result:\n",
    "            print(i,end=' ')\n",
    "        break\n",
    "    except Exception as e:\n",
    "        print(e)\n",
    "        print(\"Enter the again\") "
   ]
  },
  {
   "cell_type": "code",
   "execution_count": 4,
   "id": "8a8a2b53",
   "metadata": {},
   "outputs": [
    {
     "name": "stdout",
     "output_type": "stream",
     "text": [
      "Enter the number156\n",
      "156 is harshad nuber\n"
     ]
    }
   ],
   "source": [
    "# 5 Write a Python program to determine whether the given number is a Harshad Number?\n",
    "def harshad(n):\n",
    "    sum=0\n",
    "    rem=0\n",
    "    while(n > 0):    \n",
    "        rem = n%10   \n",
    "        sum = sum + rem    \n",
    "        n = n//10\n",
    "    return sum\n",
    "n=int(input(\"Enter the number\"))\n",
    "if n%harshad(n)==0:\n",
    "    print(n,'is harshad nuber')\n",
    "else:\n",
    "    print(n,'number is not harshad')"
   ]
  },
  {
   "cell_type": "code",
   "execution_count": null,
   "id": "48f685dd",
   "metadata": {},
   "outputs": [],
   "source": [
    "# 6 Write a Python program to print all pronic numbers between 1 and 100?"
   ]
  },
  {
   "cell_type": "code",
   "execution_count": 5,
   "id": "73ce6b2e",
   "metadata": {},
   "outputs": [
    {
     "name": "stdout",
     "output_type": "stream",
     "text": [
      "Enter the range of the number you want\n",
      "Enter the number lowest level 1\n",
      "Enter the number highest level 100\n",
      "All happy numbers between  1 and 100 --> 2 6 12 20 30 42 56 72 90 "
     ]
    }
   ],
   "source": [
    "def pronic(n):\n",
    "    f=False\n",
    "    for i in range(1, n+1):   \n",
    "        if((i*(i+1)) == n):    \n",
    "            f = True;    \n",
    "            break;    \n",
    "    return f   \n",
    "     \n",
    "while True:\n",
    "    try:\n",
    "        print(\"Enter the range of the number you want\")\n",
    "        n1=int(input(\"Enter the number lowest level \"))\n",
    "        n2=int(input(\"Enter the number highest level \"))\n",
    "        l=[n1,n2]\n",
    "        l.sort()\n",
    "        result=[]\n",
    "        for i in range(l[0]+1,l[1]):\n",
    "            if True==pronic(i):\n",
    "                result.append(i)\n",
    "        print(\"All happy numbers between \",l[0],'and',l[1],'-->',end=' ')\n",
    "        for i in result:\n",
    "            print(i,end=' ')\n",
    "        break\n",
    "    except Exception as e:\n",
    "        print(e)\n",
    "        print(\"Enter the again\") "
   ]
  },
  {
   "cell_type": "code",
   "execution_count": null,
   "id": "1bc59fe8",
   "metadata": {},
   "outputs": [],
   "source": []
  }
 ],
 "metadata": {
  "kernelspec": {
   "display_name": "Python 3 (ipykernel)",
   "language": "python",
   "name": "python3"
  },
  "language_info": {
   "codemirror_mode": {
    "name": "ipython",
    "version": 3
   },
   "file_extension": ".py",
   "mimetype": "text/x-python",
   "name": "python",
   "nbconvert_exporter": "python",
   "pygments_lexer": "ipython3",
   "version": "3.9.8"
  }
 },
 "nbformat": 4,
 "nbformat_minor": 5
}
