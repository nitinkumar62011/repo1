{
 "cells": [
  {
   "cell_type": "code",
   "execution_count": 3,
   "id": "4b6eee80",
   "metadata": {},
   "outputs": [
    {
     "data": {
      "text/plain": [
       "34"
      ]
     },
     "execution_count": 3,
     "metadata": {},
     "output_type": "execute_result"
    }
   ],
   "source": [
    "#1. Write a Python Program to Display Fibonacci Sequence Using Recursion?\n",
    "\n",
    "def fib(n):\n",
    "    if n==0:\n",
    "        return 0\n",
    "    elif n in [1,2]:\n",
    "        return 1\n",
    "    else:\n",
    "        \n",
    "        return fib(n-1)+fib(n-2)\n",
    "fib(int(input(\"Enter the input\")))"
   ]
  },
  {
   "cell_type": "code",
   "execution_count": 5,
   "id": "3de6d6a4",
   "metadata": {},
   "outputs": [
    {
     "data": {
      "text/plain": [
       "120"
      ]
     },
     "execution_count": 5,
     "metadata": {},
     "output_type": "execute_result"
    }
   ],
   "source": [
    "#2Write a Python Program to Find Factorial of Number Using Recursion?\n",
    "def fact(n):\n",
    "    if n in [0,1]:\n",
    "        return 1\n",
    "    else:\n",
    "        return n*fact(n-1)\n",
    "fact(int(input(\"Enter the number\")))"
   ]
  },
  {
   "cell_type": "code",
   "execution_count": 11,
   "id": "dd785dfa",
   "metadata": {},
   "outputs": [
    {
     "name": "stdout",
     "output_type": "stream",
     "text": [
      "Enter the weight65\n",
      "Enter the height6\n",
      "1.8055555555555556\n"
     ]
    }
   ],
   "source": [
    "#3 Write a Python Program to calculate your Body Mass Index?\n",
    "weight=float(input(\"Enter the weight\"))\n",
    "height=float(input(\"Enter the height\"))\n",
    "BMI = weight / (height)**2\n",
    "print(BMI)"
   ]
  },
  {
   "cell_type": "code",
   "execution_count": 14,
   "id": "e3bbaa9c",
   "metadata": {},
   "outputs": [
    {
     "name": "stdout",
     "output_type": "stream",
     "text": [
      "Enter the number2\n",
      "0.6931471805599453\n"
     ]
    }
   ],
   "source": [
    "#4 Write a Python Program to calculate the natural logarithm of any number?\n",
    "import math\n",
    "a=int(input(\"Enter the number\"))\n",
    "print(math.log(a))"
   ]
  },
  {
   "cell_type": "code",
   "execution_count": null,
   "id": "16b9813c",
   "metadata": {},
   "outputs": [],
   "source": [
    "#5 Write a Python Program for cube sum of first n natural numbers?\n",
    "n=int(input(\"Enter the number for sum of cube\"))\n",
    "s=0\n",
    "for i in range(1,n+1):\n",
    "    s=s+i**3\n",
    "print(s)\n",
    "sum2=(n*(n+1)/2)**2\n",
    "print\n",
    "    "
   ]
  }
 ],
 "metadata": {
  "kernelspec": {
   "display_name": "Python 3 (ipykernel)",
   "language": "python",
   "name": "python3"
  },
  "language_info": {
   "codemirror_mode": {
    "name": "ipython",
    "version": 3
   },
   "file_extension": ".py",
   "mimetype": "text/x-python",
   "name": "python",
   "nbconvert_exporter": "python",
   "pygments_lexer": "ipython3",
   "version": "3.9.8"
  }
 },
 "nbformat": 4,
 "nbformat_minor": 5
}
