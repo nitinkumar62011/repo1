{
 "cells": [
  {
   "cell_type": "markdown",
   "id": "8835bdaf",
   "metadata": {},
   "source": [
    "1.\tWrite a Python program to find sum of elements in list?\n",
    "2.\tWrite a Python program to  Multiply all numbers in the list?\n",
    "3.\tWrite a Python program to find smallest number in a list?\n",
    "4.\tWrite a Python program to find largest number in a list?\n",
    "5.\tWrite a Python program to find second largest number in a list?\n",
    "6.\tWrite a Python program to find N largest elements from a list?\n",
    "7.\tWrite a Python program to print even numbers in a list?\n",
    "8.\tWrite a Python program to print odd numbers in a List?\n",
    "9.\tWrite a Python program to Remove empty List from List?\n",
    "10.\tWrite a Python program to Cloning or Copying a list?\n",
    "11.\tWrite a Python program to Count occurrences of an element in a list?\n"
   ]
  },
  {
   "cell_type": "code",
   "execution_count": 7,
   "id": "fd1fa32c",
   "metadata": {},
   "outputs": [
    {
     "name": "stdout",
     "output_type": "stream",
     "text": [
      "Enter the number of element\n",
      "4\n",
      "Enter the element 1--> 4\n",
      "Enter the element 2--> 5\n",
      "Enter the element 3--> 6\n",
      "Enter the element 4--> 7\n",
      "first method is sum  22\n",
      "second method sum is 22\n"
     ]
    }
   ],
   "source": [
    "# 1 Write a Python program to find sum of elements in list?\n",
    "print(\"Enter the number of element\")\n",
    "n=int(input())\n",
    "l=[]\n",
    "for i in range(n):\n",
    "    try:\n",
    "        l.append(int(input(\"Enter the element \"+str(i+1)+\"--> \")))\n",
    "    except Exception as e:\n",
    "        print(e)\n",
    "        print(\"Enter the only number and again you enter \")\n",
    "        break\n",
    "s=0\n",
    "for i in l:\n",
    "    s+=i\n",
    "print(\"first method is sum \",s)\n",
    "print(\"second method sum is\",sum(l))"
   ]
  },
  {
   "cell_type": "code",
   "execution_count": 8,
   "id": "cbc488db",
   "metadata": {},
   "outputs": [
    {
     "name": "stdout",
     "output_type": "stream",
     "text": [
      "Enter the number of element\n",
      "5\n",
      "Enter the element 1--> 3\n",
      "Enter the element 2--> 3\n",
      "Enter the element 3--> 4\n",
      "Enter the element 4--> 5\n",
      "Enter the element 5--> 6\n",
      " multiple  1080\n"
     ]
    }
   ],
   "source": [
    "#2 Write a Python program to Multiply all numbers in the list?\n",
    "# 1 Write a Python program to find sum of elements in list?\n",
    "print(\"Enter the number of element\")\n",
    "n=int(input())\n",
    "l=[]\n",
    "for i in range(n):\n",
    "    try:\n",
    "        l.append(int(input(\"Enter the element \"+str(i+1)+\"--> \")))\n",
    "    except Exception as e:\n",
    "        print(e)\n",
    "        print(\"Enter the only number and again you enter \")\n",
    "        break\n",
    "s=1\n",
    "for i in l:\n",
    "    s*=i\n",
    "print(\" multiple \",s)\n"
   ]
  },
  {
   "cell_type": "code",
   "execution_count": 14,
   "id": "8ce1d118",
   "metadata": {},
   "outputs": [
    {
     "name": "stdout",
     "output_type": "stream",
     "text": [
      "Enter the number of element\n",
      "5\n",
      "Enter the element 1--> 444\n",
      "Enter the element 2--> 44\n",
      "Enter the element 3--> 3\n",
      "Enter the element 4--> 3\n",
      "Enter the element 5--> 3\n",
      "first method to find the  smallest number in a list  3\n",
      "second method to find the  smallest number in a list  3\n",
      "third method to find the  smallest number in a list  3\n"
     ]
    }
   ],
   "source": [
    "#3Write a Python program to find smallest number in a list?\n",
    "print(\"Enter the number of element\")\n",
    "n=int(input())\n",
    "l=[]\n",
    "for i in range(n):\n",
    "    try:\n",
    "        l.append(int(input(\"Enter the element \"+str(i+1)+\"--> \")))\n",
    "    except Exception as e:\n",
    "        print(e)\n",
    "        print(\"Enter the only number and again you enter \")\n",
    "        break\n",
    "least=l[0]\n",
    "for i in l:\n",
    "    if least>i:\n",
    "        least=i\n",
    "print(\"first method to find the  smallest number in a list \",least)\n",
    "print(\"second method to find the  smallest number in a list \",min(l))\n",
    "l=sorted(l)\n",
    "print(\"third method to find the  smallest number in a list \",l[0])\n"
   ]
  },
  {
   "cell_type": "code",
   "execution_count": 16,
   "id": "fb1c847e",
   "metadata": {},
   "outputs": [
    {
     "name": "stdout",
     "output_type": "stream",
     "text": [
      "Enter the number of element\n",
      "5\n",
      "Enter the element 1--> 44\n",
      "Enter the element 2--> 3\n",
      "Enter the element 3--> 4\n",
      "Enter the element 4--> 6\n",
      "Enter the element 5--> 4\n",
      "first method to find the  largest number in a list  44\n",
      "second method to find the  largest number in a list  44\n",
      "third method to find the  largest number in a list  44\n"
     ]
    }
   ],
   "source": [
    "#4 Write a Python program to find largest number in a list?\n",
    "print(\"Enter the number of element\")\n",
    "n=int(input())\n",
    "l=[]\n",
    "for i in range(n):\n",
    "    try:\n",
    "        l.append(int(input(\"Enter the element \"+str(i+1)+\"--> \")))\n",
    "    except Exception as e:\n",
    "        print(e)\n",
    "        print(\"Enter the only number and again you enter \")\n",
    "        break\n",
    "least=l[0]\n",
    "for i in l:\n",
    "    if least<i:\n",
    "        least=i\n",
    "print(\"first method to find the  largest number in a list \",least)\n",
    "print(\"second method to find the  largest number in a list \",max(l))\n",
    "l=sorted(l)\n",
    "print(\"third method to find the  largest number in a list \",l[-1])"
   ]
  },
  {
   "cell_type": "code",
   "execution_count": 20,
   "id": "5563273e",
   "metadata": {},
   "outputs": [
    {
     "name": "stdout",
     "output_type": "stream",
     "text": [
      "Enter the number of element\n",
      "2\n",
      "Enter the element 1--> 33\n",
      "Enter the element 2--> 33\n",
      "first method to find the  largest number in a list  33\n"
     ]
    }
   ],
   "source": [
    "#5 Write a Python program to find second largest number in a list?\n",
    "\n",
    "print(\"Enter the number of element\")\n",
    "n=int(input())\n",
    "l=[]\n",
    "for i in range(n):\n",
    "    try:\n",
    "        l.append(int(input(\"Enter the element \"+str(i+1)+\"--> \")))\n",
    "    except Exception as e:\n",
    "        print(e)\n",
    "        print(\"Enter the only number and again you enter \")\n",
    "        break\n",
    "if len(l)>=2 :\n",
    "    l=sorted(l)\n",
    "    print(\"first method to find the  largest number in a list \",l[-2])\n",
    "else:\n",
    "    print(\"len should greater than or equal 2\")"
   ]
  },
  {
   "cell_type": "code",
   "execution_count": 23,
   "id": "5cd1329a",
   "metadata": {},
   "outputs": [
    {
     "name": "stdout",
     "output_type": "stream",
     "text": [
      "Enter the number of element\n",
      "6\n",
      "Enter the element 1--> 44\n",
      "Enter the element 2--> 5\n",
      "Enter the element 3--> 4\n",
      "Enter the element 4--> 455\n",
      "Enter the element 5--> 444\n",
      "Enter the element 6--> 444\n",
      "Enter the N largest element 3\n",
      "first method to find the  largest number in a list  444\n"
     ]
    }
   ],
   "source": [
    "#6 Write a Python program to find N largest elements from a list?\n",
    "print(\"Enter the number of element\")\n",
    "n=int(input())\n",
    "l=[]\n",
    "for i in range(n):\n",
    "    try:\n",
    "        l.append(int(input(\"Enter the element \"+str(i+1)+\"--> \")))\n",
    "    except Exception as e:\n",
    "        print(e)\n",
    "        print(\"Enter the only number and again you enter \")\n",
    "        break\n",
    "a=int(input(\"Enter the N largest element \"))\n",
    "if len(l)>=a :\n",
    "    l=sorted(l)\n",
    "    print(\"first method to find the  largest number in a list \",l[a])\n",
    "else:\n",
    "    print(\"len should greater than or equal N element \")\n"
   ]
  },
  {
   "cell_type": "code",
   "execution_count": 32,
   "id": "a8074ce2",
   "metadata": {},
   "outputs": [
    {
     "name": "stdout",
     "output_type": "stream",
     "text": [
      "Enter the number of element\n",
      "5\n",
      "Enter the element 1--> 4\n",
      "Enter the element 2--> 8\n",
      "Enter the element 3--> 2\n",
      "Enter the element 4--> 3\n",
      "Enter the element 5--> 4\n",
      "4 8 2 4 "
     ]
    }
   ],
   "source": [
    "#7 Write a Python program to print even numbers in a list?\n",
    "print(\"Enter the number of element\")\n",
    "n=int(input())\n",
    "l=[]\n",
    "for i in range(n):\n",
    "    try:\n",
    "        l.append(int(input(\"Enter the element \"+str(i+1)+\"--> \")))\n",
    "    except Exception as e:\n",
    "        print(e)\n",
    "        print(\"Enter the only number and again you enter \")\n",
    "        break\n",
    "print(\"Even number is\")\n",
    "for i in l:\n",
    "    if i%2==0:\n",
    "        print(i ,end=' ')"
   ]
  },
  {
   "cell_type": "code",
   "execution_count": 33,
   "id": "79513e80",
   "metadata": {},
   "outputs": [
    {
     "name": "stdout",
     "output_type": "stream",
     "text": [
      "Enter the number of element\n",
      "5\n",
      "Enter the element 1--> 45\n",
      "Enter the element 2--> 3\n",
      "Enter the element 3--> 5\n",
      "Enter the element 4--> 6\n",
      "Enter the element 5--> 3\n",
      "45 3 5 3 "
     ]
    }
   ],
   "source": [
    "#8 Write a Python program to print odd numbers in a List?\n",
    "print(\"Enter the number of element\")\n",
    "n=int(input())\n",
    "l=[]\n",
    "for i in range(n):\n",
    "    try:\n",
    "        l.append(int(input(\"Enter the element \"+str(i+1)+\"--> \")))\n",
    "    except Exception as e:\n",
    "        print(e)\n",
    "        print(\"Enter the only number and again you enter \")\n",
    "        break\n",
    "print(\"odd number is \")\n",
    "for i in l:\n",
    "    if i&1:\n",
    "        print(i ,end=' ')"
   ]
  },
  {
   "cell_type": "code",
   "execution_count": 6,
   "id": "1cb4c052",
   "metadata": {},
   "outputs": [
    {
     "name": "stdout",
     "output_type": "stream",
     "text": [
      "4\n",
      "\n",
      "3\n",
      "\n"
     ]
    },
    {
     "data": {
      "text/plain": [
       "[['4'], ['3']]"
      ]
     },
     "execution_count": 6,
     "metadata": {},
     "output_type": "execute_result"
    }
   ],
   "source": [
    "#9 Write a Python program to Remove empty List from List?\n",
    "l=[[input()] for i in range(4)]\n",
    "l\n",
    "for i in l:\n",
    "    if i==['']:\n",
    "        l.remove(i)\n",
    "l"
   ]
  },
  {
   "cell_type": "code",
   "execution_count": null,
   "id": "7d990097",
   "metadata": {},
   "outputs": [],
   "source": [
    "#### 10 Write a Python program to Cloning or Copying a list?\n",
    "print(\"Enter the number of element\")\n",
    "n=int(input())\n",
    "l=[]\n",
    "for i in range(n):\n",
    "    try:\n",
    "        l.append(int(input(\"Enter the element \"+str(i+1)+\"--> \")))\n",
    "    except Exception as e:\n",
    "        print(e)\n",
    "        print(\"Enter the only number and again you enter \")\n",
    "        break\n",
    "b=l.copy()\n",
    "print(\"first method is list of copy or colon\",b)\n",
    "c=l[:]\n",
    "print(\"second method is list of copy or colon\",c)"
   ]
  },
  {
   "cell_type": "code",
   "execution_count": 9,
   "id": "fc13c757",
   "metadata": {},
   "outputs": [
    {
     "name": "stdout",
     "output_type": "stream",
     "text": [
      "Enter the number of element\n",
      "4\n",
      "Enter the element 1--> 55\n",
      "Enter the element 2--> 4\n",
      "Enter the element 3--> 4\n",
      "Enter the element 4--> 4\n",
      "Enter the occurence of the number4\n",
      "first method occurence of an element in the list 3\n",
      "second method occurence of an element in the list 3\n"
     ]
    }
   ],
   "source": [
    "#11 Write a Python program to Count occurrences of an element in a list?\n",
    "print(\"Enter the number of element\")\n",
    "n=int(input())\n",
    "l=[]\n",
    "for i in range(n):\n",
    "    try:\n",
    "        l.append(int(input(\"Enter the element \"+str(i+1)+\"--> \")))\n",
    "    except Exception as e:\n",
    "        print(e)\n",
    "        print(\"Enter the only number and again you enter \")\n",
    "        break\n",
    "c=int(input(\"Enter the occurence of the number\"))\n",
    "s=0\n",
    "for i in l:\n",
    "    if i==c:\n",
    "        s=s+1\n",
    "print(\"first method occurence of an element in the list\",s)\n",
    "print(\"second method occurence of an element in the list\",l.count(c))        "
   ]
  }
 ],
 "metadata": {
  "kernelspec": {
   "display_name": "Python 3",
   "language": "python",
   "name": "python3"
  },
  "language_info": {
   "codemirror_mode": {
    "name": "ipython",
    "version": 3
   },
   "file_extension": ".py",
   "mimetype": "text/x-python",
   "name": "python",
   "nbconvert_exporter": "python",
   "pygments_lexer": "ipython3",
   "version": "3.8.8"
  }
 },
 "nbformat": 4,
 "nbformat_minor": 5
}
