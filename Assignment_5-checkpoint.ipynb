{
 "cells": [
  {
   "cell_type": "code",
   "execution_count": null,
   "id": "antique-saturday",
   "metadata": {},
   "outputs": [],
   "source": [
    "(1) Empty dictionary's code look like a { } or ya anthoer way it is a set but it is not a set.\n",
    "if check through the keyword is type() so it return the dict types."
   ]
  },
  {
   "cell_type": "code",
   "execution_count": null,
   "id": "internal-thanksgiving",
   "metadata": {},
   "outputs": [],
   "source": [
    "(2),\n",
    "s={'foo':42}\n",
    "so here value is 'foo' 42 \n",
    "s['foo']"
   ]
  },
  {
   "cell_type": "code",
   "execution_count": null,
   "id": "public-newcastle",
   "metadata": {},
   "outputs": [],
   "source": [
    "(3).\n",
    "Most signficent between a dictionary and list is\n",
    "in dictionary we used to keys and value pair if we are extract the value that time we use the \n",
    "corresponding key.\n",
    "in list we uesd to index the extracting the value "
   ]
  },
  {
   "cell_type": "code",
   "execution_count": null,
   "id": "dense-drain",
   "metadata": {},
   "outputs": [],
   "source": [
    "(4).\n",
    "it gives the error like as a keyerror beacause  key 'foo' is not present in the dictionary spam. "
   ]
  },
  {
   "cell_type": "code",
   "execution_count": null,
   "id": "front-capital",
   "metadata": {},
   "outputs": [],
   "source": [
    "(5).\n",
    "both are gives the same output because here 'cat' is a key so we are only checking the keys if present\n",
    "then it will be True otherwise it is False"
   ]
  },
  {
   "cell_type": "code",
   "execution_count": null,
   "id": "placed-snapshot",
   "metadata": {},
   "outputs": [],
   "source": [
    "(6).\n",
    "if we are checking the key 'cat' in spam that time it give the True because they will be checked the\n",
    "key present or not in the case of 'cat' in spam.values() it is checking the value as a 'cat' because \n",
    "'cat' is key so its gives the false value if 'cat':'cat' in this case it 'cat' treated as value then\n",
    "    it will be gives the True value."
   ]
  },
  {
   "cell_type": "code",
   "execution_count": null,
   "id": "foreign-energy",
   "metadata": {},
   "outputs": [],
   "source": [
    "(7).we have dictionary comperhension but  here is no shortcut in the only if  case\n",
    "because here not any iterator so its gives the error like syntax error.\n",
    "\n"
   ]
  },
  {
   "cell_type": "code",
   "execution_count": null,
   "id": "interstate-chrome",
   "metadata": {},
   "outputs": [],
   "source": [
    "(8) How do you &quot;pretty print&quot; dictionary values using which module and function?\n",
    "it is not covered yet."
   ]
  },
  {
   "cell_type": "code",
   "execution_count": null,
   "id": "thirty-yacht",
   "metadata": {},
   "outputs": [],
   "source": []
  }
 ],
 "metadata": {
  "kernelspec": {
   "display_name": "Python 3",
   "language": "python",
   "name": "python3"
  },
  "language_info": {
   "codemirror_mode": {
    "name": "ipython",
    "version": 3
   },
   "file_extension": ".py",
   "mimetype": "text/x-python",
   "name": "python",
   "nbconvert_exporter": "python",
   "pygments_lexer": "ipython3",
   "version": "3.9.2"
  }
 },
 "nbformat": 4,
 "nbformat_minor": 5
}
