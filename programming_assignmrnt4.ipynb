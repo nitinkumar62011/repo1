{
 "cells": [
  {
   "cell_type": "code",
   "execution_count": 1,
   "id": "israeli-kelly",
   "metadata": {},
   "outputs": [
    {
     "name": "stdout",
     "output_type": "stream",
     "text": [
      "Enter the number5\n",
      "120\n"
     ]
    }
   ],
   "source": [
    "#1Write a Python Program to Find the Factorial of a Number?\n",
    "def fact(n):\n",
    "    if n<0:\n",
    "        return \" it is not possible\"\n",
    "    if n==0:\n",
    "        return 1\n",
    "    if n==1:\n",
    "        return 1\n",
    "    f=1\n",
    "    for i in range(1,n+1):\n",
    "        f*=i\n",
    "    return f\n",
    "a=fact(int(input(\"Enter the number\")))\n",
    "print(a)"
   ]
  },
  {
   "cell_type": "code",
   "execution_count": 2,
   "id": "biblical-thanksgiving",
   "metadata": {},
   "outputs": [
    {
     "name": "stdout",
     "output_type": "stream",
     "text": [
      "Enter the multiplication table number5\n",
      "5\n",
      "10\n",
      "15\n",
      "20\n",
      "25\n",
      "30\n",
      "35\n",
      "40\n",
      "45\n",
      "50\n"
     ]
    }
   ],
   "source": [
    "#2Write a Python Program to Display the multiplication Table?\n",
    "def mulTable(n):\n",
    "    for i in range(1,11):\n",
    "        print(n*i)\n",
    "mulTable(int(input(\"Enter the multiplication table number\")))"
   ]
  },
  {
   "cell_type": "code",
   "execution_count": 3,
   "id": "honest-colonial",
   "metadata": {},
   "outputs": [
    {
     "name": "stdout",
     "output_type": "stream",
     "text": [
      "Enter the number up to print the fibonacci sequence12\n",
      "0\n",
      "1\n",
      "1\n",
      "2\n",
      "3\n",
      "5\n",
      "8\n",
      "13\n",
      "21\n",
      "34\n",
      "55\n",
      "89\n"
     ]
    }
   ],
   "source": [
    "#3Write a Python Program to Print the Fibonacci sequence?\n",
    "def fab(n):\n",
    "    m=0\n",
    "    p=1\n",
    "    if n==1:\n",
    "        print(m)\n",
    "        return\n",
    "    if n==2:\n",
    "        print(m,p)\n",
    "        return\n",
    "    print(m)\n",
    "    print(p)\n",
    "    s=0\n",
    "    for i in range(0,n-2):\n",
    "        s=m+p\n",
    "        m=p\n",
    "        p=s\n",
    "        print(s)\n",
    "fab(int(input(\"Enter the number up to print the fibonacci sequence\")))"
   ]
  },
  {
   "cell_type": "code",
   "execution_count": 4,
   "id": "included-sister",
   "metadata": {},
   "outputs": [
    {
     "name": "stdout",
     "output_type": "stream",
     "text": [
      "Enter the number371\n",
      "371 number is  armstrong number\n"
     ]
    }
   ],
   "source": [
    "#4Write a Python Program to Check Armstrong Number?\n",
    "def armstrong(n):\n",
    "    k=n\n",
    "    s=0\n",
    "    while(n):\n",
    "        r=n%10\n",
    "        s=s+r**3\n",
    "        n=n//10\n",
    "    if k==s:\n",
    "        print(k,\"number is  armstrong number\")\n",
    "    else:\n",
    "        print(k,\"number is not armstrong number\")\n",
    "armstrong(int(input(\"Enter the number\")))"
   ]
  },
  {
   "cell_type": "code",
   "execution_count": 5,
   "id": "light-apache",
   "metadata": {},
   "outputs": [
    {
     "name": "stdout",
     "output_type": "stream",
     "text": [
      "Enter the interval finding the armstrong number  1 1000\n",
      "amstrong number is ...\n",
      "[1, 153, 370, 371, 407]\n"
     ]
    }
   ],
   "source": [
    "#5Write a Python Program to Find Armstrong Number in an Interval?\n",
    "def intervalarmstrong(a,b):\n",
    "    l=[]\n",
    "    for n in range(a,b+1):\n",
    "        k=n\n",
    "        s=0\n",
    "        while(n):\n",
    "            r=n%10\n",
    "            s=s+r**3\n",
    "            n=n//10\n",
    "        if k==s:\n",
    "            l.append(k)\n",
    "    return l\n",
    "a,b=input(\"Enter the interval finding the armstrong number  \").split()\n",
    "a=int(a)\n",
    "b=int(b)\n",
    "print(\"amstrong number is ...\")\n",
    "a=intervalarmstrong(a,b)\n",
    "print(a)"
   ]
  },
  {
   "cell_type": "code",
   "execution_count": 6,
   "id": "durable-elephant",
   "metadata": {},
   "outputs": [
    {
     "name": "stdout",
     "output_type": "stream",
     "text": [
      "first method\n",
      "Enter the natural number34\n",
      "595\n",
      "second number\n",
      "Enter the number34\n",
      "595\n"
     ]
    }
   ],
   "source": [
    "#6Write a Python Program to Find the Sum of Natural Numbers?\n",
    "#first method\n",
    "print(\"first method\")\n",
    "def NaturalSum(n):\n",
    "    s=0\n",
    "    for i in range(1,n+1):\n",
    "        s+=i\n",
    "    return s\n",
    "print(NaturalSum(int(input(\"Enter the natural number\"))))\n",
    "#second number\n",
    "print(\"second number\")\n",
    "def nSum(k):\n",
    "    return int((k*(k+1))/2)\n",
    "print(nSum(int(input(\"Enter the number\"))))\n"
   ]
  }
 ],
 "metadata": {
  "kernelspec": {
   "display_name": "Python 3",
   "language": "python",
   "name": "python3"
  },
  "language_info": {
   "codemirror_mode": {
    "name": "ipython",
    "version": 3
   },
   "file_extension": ".py",
   "mimetype": "text/x-python",
   "name": "python",
   "nbconvert_exporter": "python",
   "pygments_lexer": "ipython3",
   "version": "3.9.2"
  }
 },
 "nbformat": 4,
 "nbformat_minor": 5
}
