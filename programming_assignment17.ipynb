{
 "cells": [
  {
   "cell_type": "code",
   "execution_count": 7,
   "id": "c9304eff",
   "metadata": {},
   "outputs": [
    {
     "name": "stdout",
     "output_type": "stream",
     "text": [
      "30\n"
     ]
    }
   ],
   "source": [
    "'''Question1. Create a function that takes three arguments a, b, c and returns the sum of the numbers that are evenly divided by c from the range a, b inclusive.\n",
    "Examples\n",
    "evenly_divisible(1, 10, 20) ➞ 0\n",
    "# No number between 1 and 10 can be evenly divided by 20.\n",
    "\n",
    "evenly_divisible(1, 10, 2) ➞ 30\n",
    "# 2 + 4 + 6 + 8 + 10 = 30\n",
    "\n",
    "evenly_divisible(1, 10, 3) ➞ 18\n",
    "# 3 + 6 + 9 = 18'''\n",
    "def evenly_divisible(a,b,c):\n",
    "    s=0\n",
    "    for i in range(a,b+1):\n",
    "        if i%c==0:\n",
    "            s+=i\n",
    "    return s\n",
    "print(evenly_divisible(1,10,2))\n",
    "        "
   ]
  },
  {
   "cell_type": "code",
   "execution_count": 47,
   "id": "162ffeea",
   "metadata": {},
   "outputs": [
    {
     "name": "stdout",
     "output_type": "stream",
     "text": [
      "45>3\n",
      "None\n"
     ]
    }
   ],
   "source": [
    "'''Question2. Create a function that returns True if a given inequality expression is correct and False otherwise.\n",
    "Examples\n",
    "correct_signs(\"3 < 7 < 11\") ➞ True\n",
    "\n",
    "correct_signs(\"13 > 44 > 33 > 1\") ➞ False\n",
    "\n",
    "correct_signs(\"1 < 2 < 6 < 9 > 3\") ➞ True'''\n",
    "def inequality(s):\n",
    "    for i in range(len(s)-1,2):\n",
    "        if s[i+1] in ['<','>','<=','>=']:\n",
    "            if s[i+1]=='<' and float(s[i])>float(s[i+2]):\n",
    "                return 1\n",
    "            if s[i]=='>' and float(s[i])<float(s[i+2]):\n",
    "                return 1\n",
    "            if s[i+1]=='<=' and float(s[i])>=float(s[i+2]):\n",
    "                return 1\n",
    "            if s[i]=='>=' and float(s[i])<=float(s[i+2]):\n",
    "                return 1\n",
    "            \n",
    "print(inequality(input()))               \n",
    "            "
   ]
  },
  {
   "cell_type": "code",
   "execution_count": 36,
   "id": "fd37e16a",
   "metadata": {},
   "outputs": [
    {
     "name": "stdout",
     "output_type": "stream",
     "text": [
      "Enter the string valuethe aardvark\n",
      "Enter the replaceble value*\n",
      "replaceble value is \n",
      "th* **rdv*rk\n"
     ]
    }
   ],
   "source": [
    "'''Question3. Create a function that replaces all the vowels in a string with a specified character.\n",
    "Examples\n",
    "replace_vowels(\"the aardvark\", \"#\") ➞ \"th# ##rdv#rk\"\n",
    "\n",
    "replace_vowels(\"minnie mouse\", \"?\") ➞ \"m?nn?? m??s?\"\n",
    "\n",
    "'''\n",
    "def replace_vowels(s,rep):\n",
    "    for i in range(len(s)):\n",
    "        if s[i] in ['a','e','i','o','u','A','E','I','O','U']:\n",
    "            s=s.replace(s[i],rep)\n",
    "    print(\"replaceble value is \")\n",
    "    print(s)\n",
    "\n",
    "s=input(\"Enter the string value\")\n",
    "rep=input(\"Enter the replaceble value\")\n",
    "replace_vowels(s,rep)    "
   ]
  },
  {
   "cell_type": "code",
   "execution_count": 11,
   "id": "bdd191b2",
   "metadata": {},
   "outputs": [
    {
     "name": "stdout",
     "output_type": "stream",
     "text": [
      "120\n"
     ]
    }
   ],
   "source": [
    "'''Question4. Write a function that calculates the factorial of a number recursively.\n",
    "Examples\n",
    "factorial(5) ➞ 120\n",
    "\n",
    "factorial(3) ➞ 6\n",
    "\n",
    "factorial(1) ➞ 1\n",
    "\n",
    "factorial(0) ➞ 1'''\n",
    "def factorial(n):\n",
    "    if n in [0,1]:\n",
    "        return 1\n",
    "    else:\n",
    "        return n*factorial(n-1)\n",
    "print(factorial(5))"
   ]
  },
  {
   "cell_type": "code",
   "execution_count": null,
   "id": "1b7e80c2",
   "metadata": {},
   "outputs": [],
   "source": [
    "'''Question 5\n",
    "Hamming distance is the number of characters that differ between two strings.\n",
    "To illustrate:\n",
    "String1: \"abcbba\"\n",
    "String2: \"abcbda\"\n",
    "\n",
    "Hamming Distance: 1 - \"b\" vs. \"d\" is the only difference.\n",
    "Create a function that computes the hamming distance between two strings.\n",
    "Examples\n",
    "hamming_distance(\"abcde\", \"bcdef\") ➞ 5\n",
    "\n",
    "hamming_distance(\"abcde\", \"abcde\") ➞ 0\n",
    "\n",
    "hamming_distance(\"strong\", \"strung\") ➞ 1\n",
    "\n",
    "'''"
   ]
  },
  {
   "cell_type": "code",
   "execution_count": 22,
   "id": "ae48d705",
   "metadata": {},
   "outputs": [],
   "source": [
    "def hamming_distance(s1,s2):\n",
    "    l1=len(s1)\n",
    "    l2=len(s2)\n",
    "    ln=0\n",
    "    if l1==l2:\n",
    "        ln=0\n",
    "        for i in range(len(s1)):\n",
    "            if s1[i]!=s2[i]:\n",
    "                ln+=1\n",
    "        return ln\n",
    "    return \" both should have a same length, but here don't have a same legth\""
   ]
  },
  {
   "cell_type": "code",
   "execution_count": 24,
   "id": "649cea26",
   "metadata": {},
   "outputs": [
    {
     "name": "stdout",
     "output_type": "stream",
     "text": [
      "hamming distance  both should have a same length here don't have a same legth\n"
     ]
    }
   ],
   "source": [
    "print(\"hamming distance\",hamming_distance(\"abcdse\", \"bcdef\"))"
   ]
  },
  {
   "cell_type": "code",
   "execution_count": null,
   "id": "571540ab",
   "metadata": {},
   "outputs": [],
   "source": []
  }
 ],
 "metadata": {
  "kernelspec": {
   "display_name": "Python 3",
   "language": "python",
   "name": "python3"
  },
  "language_info": {
   "codemirror_mode": {
    "name": "ipython",
    "version": 3
   },
   "file_extension": ".py",
   "mimetype": "text/x-python",
   "name": "python",
   "nbconvert_exporter": "python",
   "pygments_lexer": "ipython3",
   "version": "3.8.8"
  }
 },
 "nbformat": 4,
 "nbformat_minor": 5
}
