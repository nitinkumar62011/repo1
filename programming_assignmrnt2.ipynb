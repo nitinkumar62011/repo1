{
 "cells": [
  {
   "cell_type": "code",
   "execution_count": 3,
   "id": "continent-check",
   "metadata": {},
   "outputs": [
    {
     "name": "stdout",
     "output_type": "stream",
     "text": [
      "Enter the kilometer5.8\n",
      " miles is 3.6018\n"
     ]
    }
   ],
   "source": [
    "#1.\n",
    "km=input(\"Enter the kilometer\")\n",
    "mile=0.621*float(km)\n",
    "print(\" miles is\",mile)"
   ]
  },
  {
   "cell_type": "code",
   "execution_count": 4,
   "id": "smart-multimedia",
   "metadata": {},
   "outputs": [
    {
     "name": "stdout",
     "output_type": "stream",
     "text": [
      "Enter the celsius34\n",
      "Fahrenheit is  93.2\n"
     ]
    }
   ],
   "source": [
    "#2.\n",
    "c=input(\"Enter the celsius\")\n",
    "f=float(c)*1.8+32\n",
    "print(\"Fahrenheit is \",f)"
   ]
  },
  {
   "cell_type": "code",
   "execution_count": 1,
   "id": "verbal-flour",
   "metadata": {},
   "outputs": [
    {
     "name": "stdout",
     "output_type": "stream",
     "text": [
      "Enter the year and month3000 4\n",
      "     April 3000\n",
      "Mo Tu We Th Fr Sa Su\n",
      "    1  2  3  4  5  6\n",
      " 7  8  9 10 11 12 13\n",
      "14 15 16 17 18 19 20\n",
      "21 22 23 24 25 26 27\n",
      "28 29 30\n",
      "\n"
     ]
    }
   ],
   "source": [
    "#3\n",
    "import calendar\n",
    "year,month=input(\"Enter the year and month\").split()\n",
    "year=int(year)\n",
    "month=int(month)\n",
    "print(calendar.month(year,month))"
   ]
  },
  {
   "cell_type": "code",
   "execution_count": 13,
   "id": "moved-dress",
   "metadata": {},
   "outputs": [
    {
     "name": "stdout",
     "output_type": "stream",
     "text": [
      "Enter the coefficent of quardretic equation 3 4 5\n",
      "first root is  -0.6666666666666666+i1.1055415967851332 and second root is -0.6666666666666666-i1.1055415967851332\n"
     ]
    }
   ],
   "source": [
    "#4\n",
    "a,b,c=input(\"Enter the coefficent of quardretic equation \").split()\n",
    "a=int(a)\n",
    "b=int(b)\n",
    "c=int(c)\n",
    "D=b*b-4*a*c\n",
    "if D>=0:\n",
    "    x=(-b+D**0.5)/(2*a)\n",
    "    y=(-b-D**0.5)/(2*a)\n",
    "    print(\"first root is  \",x,\"and second root is \",y)\n",
    "elif D<0:\n",
    "    x1=-b/(2*a)\n",
    "    x2=((-D)**0.5)/(2*a)\n",
    "    print(\"first root is  \"+str(x1)+\"+i\"+str(x2)+\" and second root is \"+str(x1)+\"-i\"+str(x2))"
   ]
  },
  {
   "cell_type": "code",
   "execution_count": 8,
   "id": "ordered-withdrawal",
   "metadata": {},
   "outputs": [
    {
     "name": "stdout",
     "output_type": "stream",
     "text": [
      "Enter first number3\n",
      "Enter second number4\n",
      "first method is \n",
      "before swaping 3 4\n",
      "after swaping 4 3\n",
      "Enter first number4\n",
      "Enter second number5\n",
      "third method is \n",
      "before swaping 4 5\n",
      "after swaping  5 4\n"
     ]
    }
   ],
   "source": [
    "#5\n",
    "a=int(input(\"Enter first number\"))\n",
    "b=int(input(\"Enter second number\"))\n",
    "# first method is \n",
    "print(\"first method is \")\n",
    "print(\"before swaping\",a,b)\n",
    "a=a+b\n",
    "b=a-b\n",
    "a=a-b\n",
    "print(\"after swaping\",a,b)\n",
    "#second method\n",
    "a=int(input(\"Enter first number\"))\n",
    "b=int(input(\"Enter second number\"))\n",
    "print(\"third method is \")\n",
    "print(\"before swaping\",a,b)\n",
    "a,b=b,a\n",
    "print(\"after swaping \",a,b)"
   ]
  }
 ],
 "metadata": {
  "kernelspec": {
   "display_name": "Python 3",
   "language": "python",
   "name": "python3"
  },
  "language_info": {
   "codemirror_mode": {
    "name": "ipython",
    "version": 3
   },
   "file_extension": ".py",
   "mimetype": "text/x-python",
   "name": "python",
   "nbconvert_exporter": "python",
   "pygments_lexer": "ipython3",
   "version": "3.9.2"
  }
 },
 "nbformat": 4,
 "nbformat_minor": 5
}
