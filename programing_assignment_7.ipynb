{
 "cells": [
  {
   "cell_type": "code",
   "execution_count": 6,
   "id": "every-tunisia",
   "metadata": {},
   "outputs": [
    {
     "name": "stdout",
     "output_type": "stream",
     "text": [
      "enter the total number2\n",
      "enter the number 1-> 3\n",
      "enter the number 2-> 4\n",
      "sum is total number by first method 7\n",
      "sum is total number by second method 7\n"
     ]
    }
   ],
   "source": [
    "#1.\tWrite a Python Program to find sum of array?\n",
    "#first method\n",
    "n=int(input(\"enter the total number\"))\n",
    "arr=[]\n",
    "for i in range(n):\n",
    "    arr.append(int(input(\"enter the number \"+str(i+1)+\"-> \")))\n",
    "print(\"sum is total number by first method\",sum(arr)) \n",
    "#secon method\n",
    "sum1=0\n",
    "for i in arr:\n",
    "    sum1+=i\n",
    "print(\"sum is total number by second method\",sum1) "
   ]
  },
  {
   "cell_type": "code",
   "execution_count": 13,
   "id": "equal-greenhouse",
   "metadata": {},
   "outputs": [
    {
     "name": "stdout",
     "output_type": "stream",
     "text": [
      "enter the total number3\n",
      "enter the number 1-> 45\n",
      "enter the number 2-> 56\n",
      "enter the number 3-> 12\n",
      "max number is first method 56\n",
      "max number is second method 56\n",
      "max number is third method is 56\n"
     ]
    }
   ],
   "source": [
    "#2.\tWrite a Python Program to find largest element in an array?\n",
    "n=int(input(\"enter the total number\"))\n",
    "arr=[]\n",
    "for i in range(n):\n",
    "    arr.append(int(input(\"enter the number \"+str(i+1)+\"-> \")))\n",
    "print('max number is first method',max(arr))\n",
    "#second method\n",
    "max1=arr[0]\n",
    "for i in arr:\n",
    "    if i>max1:\n",
    "        max1=i\n",
    "print(\"max number is second method\",max1)\n",
    "arr.sort()\n",
    "print(\"max number is third method is\",arr[-1])\n"
   ]
  },
  {
   "cell_type": "code",
   "execution_count": 26,
   "id": "inside-motivation",
   "metadata": {},
   "outputs": [
    {
     "name": "stdout",
     "output_type": "stream",
     "text": [
      "enter the total number4\n",
      "enter the number 1-> 1\n",
      "enter the number 2-> 2\n",
      "enter the number 3-> 3\n",
      "enter the number 4-> 4\n",
      "enter the rotate by the number3\n",
      "Before array is [1, 2, 3, 4]\n",
      "rotated array is [4, 1, 2, 3]\n"
     ]
    }
   ],
   "source": [
    "#3.\tWrite a Python Program for array rotation?\n",
    "n=int(input(\"enter the total number\"))\n",
    "arr=[]\n",
    "for i in range(n):\n",
    "    arr.append(int(input(\"enter the number \"+str(i+1)+\"-> \")))\n",
    "rotateNumber=int(input(\"enter the rotate by the number\"))\n",
    "print(\"Before array is\",arr)\n",
    "if rotateNumber in arr:\n",
    "    index1=arr.index(rotateNumber)\n",
    "    list1=[]\n",
    "    pos=0\n",
    "    for i in range(index1+1):\n",
    "    \n",
    "        list1+=[arr.pop(pos)]\n",
    "    arr.extend(list1)\n",
    "    print(\"rotated array is\",arr)\n",
    "else:\n",
    "    print(\"rotate number is not present\",rotateNumber)"
   ]
  },
  {
   "cell_type": "code",
   "execution_count": 29,
   "id": "inappropriate-roller",
   "metadata": {},
   "outputs": [
    {
     "name": "stdout",
     "output_type": "stream",
     "text": [
      "enter the total number3\n",
      "enter the number 1-> 45\n",
      "enter the number 2-> 3\n",
      "enter the number 3-> 3\n",
      "enter the part number7\n",
      "Before array is [45, 3, 3]\n",
      "not possible\n"
     ]
    }
   ],
   "source": [
    "#4.\tWrite a Python Program to Split the array and add the first part to the end?\n",
    "\n",
    "n=int(input(\"enter the total number\"))\n",
    "arr=[]\n",
    "for i in range(n):\n",
    "    arr.append(int(input(\"enter the number \"+str(i+1)+\"-> \")))\n",
    "partNumber=int(input(\"enter the part number\"))\n",
    "print(\"Before array is\",arr)\n",
    "if partNumber <=len(arr):\n",
    "    list1=[]\n",
    "    pos=0\n",
    "    for i in range(partNumber):\n",
    "    \n",
    "        list1+=[arr.pop(pos)]\n",
    "    arr.extend(list1)\n",
    "    print(\"splited array is\",arr)\n",
    "else:\n",
    "    print(\"not possible\")\n",
    "\n",
    "\n"
   ]
  },
  {
   "cell_type": "code",
   "execution_count": 34,
   "id": "brave-majority",
   "metadata": {},
   "outputs": [
    {
     "name": "stdout",
     "output_type": "stream",
     "text": [
      "enter the total number4\n",
      "enter the number 1-> 6\n",
      "enter the number 2-> 5\n",
      "enter the number 3-> 4\n",
      "enter the number 4-> 4\n",
      "array is monotonic\n"
     ]
    }
   ],
   "source": [
    "#5.\tWrite a Python Program to check if given array is Monotonic?\n",
    "n=int(input(\"enter the total number\"))\n",
    "arr=[]\n",
    "for i in range(n):\n",
    "    arr.append(int(input(\"enter the number \"+str(i+1)+\"-> \")))\n",
    "count1=0\n",
    "for i in range(len(arr)-1):\n",
    "    if arr[i]<=arr[i+1]:\n",
    "        count1=count1+1\n",
    "count2=0\n",
    "for i in range(len(arr)-1):\n",
    "    if arr[i]>=arr[i+1]:\n",
    "        count2+=1\n",
    "if count1==len(arr)-1 or count2==len(arr)-1:\n",
    "    print(\"array is monotonic\")\n",
    "else:\n",
    "    print(\"array is not monotonic\")\n",
    "        \n",
    "    "
   ]
  },
  {
   "cell_type": "code",
   "execution_count": null,
   "id": "external-halloween",
   "metadata": {},
   "outputs": [],
   "source": []
  }
 ],
 "metadata": {
  "kernelspec": {
   "display_name": "Python 3",
   "language": "python",
   "name": "python3"
  },
  "language_info": {
   "codemirror_mode": {
    "name": "ipython",
    "version": 3
   },
   "file_extension": ".py",
   "mimetype": "text/x-python",
   "name": "python",
   "nbconvert_exporter": "python",
   "pygments_lexer": "ipython3",
   "version": "3.9.2"
  }
 },
 "nbformat": 4,
 "nbformat_minor": 5
}
