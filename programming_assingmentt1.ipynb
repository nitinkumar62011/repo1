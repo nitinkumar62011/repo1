{
 "cells": [
  {
   "cell_type": "code",
   "execution_count": null,
   "id": "affecting-reviewer",
   "metadata": {},
   "outputs": [],
   "source": [
    "#1\n",
    "print(\"Hello Python\")"
   ]
  },
  {
   "cell_type": "code",
   "execution_count": 2,
   "id": "growing-galaxy",
   "metadata": {},
   "outputs": [
    {
     "name": "stdout",
     "output_type": "stream",
     "text": [
      "addition of a and  b is  14\n",
      "division of a and  b is  1.8\n"
     ]
    }
   ],
   "source": [
    "#2\n",
    "a=9\n",
    "b=5\n",
    "print(\"addition of a and  b is \",a+b)\n",
    "print(\"division of a and  b is \",a/b)"
   ]
  },
  {
   "cell_type": "code",
   "execution_count": 12,
   "id": "matched-expert",
   "metadata": {},
   "outputs": [
    {
     "name": "stdout",
     "output_type": "stream",
     "text": [
      "Enter your options\n",
      " 1 Triangle have a three side\n",
      "2 Triangle have a height and base\n",
      "2\n",
      "Enter the height and base of triangle\n",
      "4 5\n",
      "area of triangle is 10.0\n"
     ]
    }
   ],
   "source": [
    "#3\n",
    "print('Enter your options')\n",
    "print(\" 1 Triangle have a three side\")\n",
    "print(\"2 Triangle have a height and base\")\n",
    "ch=int(input())\n",
    "if ch==1: \n",
    "    print(\"Enter the triangle side\")\n",
    "    s1,s2,s3=input().split()\n",
    "    r1=int(s1)\n",
    "    r2=int(s2)\n",
    "    r3=int(s3)\n",
    "    s=(r1+r2+r3)/2\n",
    "    area=(s*(s-r1)*(s-r2)*(s-r3))**0.5\n",
    "    print(area)\n",
    "elif ch==2:\n",
    "    print(\"Enter the height and base of triangle\")\n",
    "    h,b=input().split()\n",
    "    h1=int(h)\n",
    "    b1=int(b)\n",
    "    a=0.5*h1*b1\n",
    "    print(\"area of triangle is\",a)"
   ]
  },
  {
   "cell_type": "code",
   "execution_count": 9,
   "id": "diagnostic-coordination",
   "metadata": {},
   "outputs": [
    {
     "name": "stdout",
     "output_type": "stream",
     "text": [
      "first method is \n",
      "before swaping 7 8\n",
      "after swaping 8 7\n",
      "second method is \n",
      "before swaping 7 8\n",
      "after swaping  8 7\n",
      "third method is \n",
      "before swaping 7 8\n",
      "after swaping  8 7\n"
     ]
    }
   ],
   "source": [
    "#4\n",
    "a=7\n",
    "b=8\n",
    "# first method is \n",
    "print(\"first method is \")\n",
    "print(\"before swaping\",a,b)\n",
    "a=a+b\n",
    "b=a-b\n",
    "a=a-b\n",
    "print(\"after swaping\",a,b)\n",
    "#second method\n",
    "a=7\n",
    "b=8\n",
    "print(\"second method is \")\n",
    "print(\"before swaping\",a,b)\n",
    "t=a\n",
    "a=b\n",
    "b=t\n",
    "print(\"after swaping \",a,b)\n",
    "#third method\n",
    "a=7\n",
    "b=8\n",
    "print(\"third method is \")\n",
    "print(\"before swaping\",a,b)\n",
    "a,b=b,a\n",
    "print(\"after swaping \",a,b)"
   ]
  },
  {
   "cell_type": "code",
   "execution_count": 23,
   "id": "stock-richmond",
   "metadata": {},
   "outputs": [
    {
     "name": "stdout",
     "output_type": "stream",
     "text": [
      "185\n"
     ]
    }
   ],
   "source": [
    "#5\n",
    "import random\n",
    "a=random.randint(1,199)\n",
    "print(a)"
   ]
  }
 ],
 "metadata": {
  "kernelspec": {
   "display_name": "Python 3",
   "language": "python",
   "name": "python3"
  },
  "language_info": {
   "codemirror_mode": {
    "name": "ipython",
    "version": 3
   },
   "file_extension": ".py",
   "mimetype": "text/x-python",
   "name": "python",
   "nbconvert_exporter": "python",
   "pygments_lexer": "ipython3",
   "version": "3.9.2"
  }
 },
 "nbformat": 4,
 "nbformat_minor": 5
}
