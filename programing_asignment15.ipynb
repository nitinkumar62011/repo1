{
 "cells": [
  {
   "cell_type": "code",
   "execution_count": 5,
   "id": "b1e70a14",
   "metadata": {},
   "outputs": [
    {
     "name": "stdout",
     "output_type": "stream",
     "text": [
      "Enter the number up to want 6\n",
      "0\n"
     ]
    }
   ],
   "source": [
    "'''\n",
    "Question 1:\n",
    "Please write a program using generator to print the numbers which can be divisible by\n",
    "5 and 7 between 0 and n in comma separated form while n is input by console.'''\n",
    "def fundivisibleby7and5(n):\n",
    "    for i in range(n+1):#range function automatically start from 0\n",
    "        if  (i%5==0 and i%7==0):\n",
    "            yield i\n",
    "a=[i for i in fundivisibleby7and5(int(input(\"Enter the number up to want \")))]\n",
    "res=''\n",
    "for i in a:\n",
    "    res+=str(i)+\",\"\n",
    "print(res[:-1])"
   ]
  },
  {
   "cell_type": "code",
   "execution_count": 6,
   "id": "782ab8c4",
   "metadata": {},
   "outputs": [
    {
     "name": "stdout",
     "output_type": "stream",
     "text": [
      "Enter the upper limit7\n",
      "Even number is\n",
      "0,2,4,6\n"
     ]
    }
   ],
   "source": [
    "'''Question 2:\n",
    "Please write a program using generator to print the even numbers between 0 and n in \n",
    "comma separated form while n is input by console.'''\n",
    "def even(n):\n",
    "    for i in range(n+1):#range function automatically start from 0\n",
    "        if i%2==0:\n",
    "            yield i\n",
    "h=[i for i in even(int(input(\"Enter the upper limit\")))]\n",
    "print(\"Even number is\")\n",
    "res=''\n",
    "for i in h:\n",
    "    res+=str(i)+\",\"\n",
    "print(res[:-1])"
   ]
  },
  {
   "cell_type": "code",
   "execution_count": 7,
   "id": "fe879af1",
   "metadata": {},
   "outputs": [
    {
     "name": "stdout",
     "output_type": "stream",
     "text": [
      "Enter the number upto fibonacci series 7\n",
      "0,1,1,2,3,5,8,13\n"
     ]
    }
   ],
   "source": [
    "'''Question 3:\n",
    "The Fibonacci Sequence is computed based on the following formula:\n",
    "f(n)=0 if n=0\n",
    "f(n)=1 if n=1\n",
    "f(n)=f(n-1)+f(n-2) if n>1\n",
    "Please write a program using list comprehension to print the Fibonacci Sequence in comma separated form with a given n input by console.\n",
    "Example:\n",
    "If the following n is given as input to the program:\n",
    "7\n",
    "\n",
    "Then, the output of the program should be:\n",
    "0,1,1,2,3,5,8,13'''\n",
    "n=int(input(\"Enter the number upto fibonacci series \"))\n",
    "lf=[0,1]  \n",
    "[lf.append(lf[-2]+lf[-1]) for n in range(n-1)]\n",
    "res=''\n",
    "for i in lf:\n",
    "    res+=str(i)+\",\"\n",
    "print(res[:-1])"
   ]
  },
  {
   "cell_type": "code",
   "execution_count": 8,
   "id": "2e955552",
   "metadata": {},
   "outputs": [
    {
     "name": "stdout",
     "output_type": "stream",
     "text": [
      "Enter the email iddfdf\n",
      "substring not found\n",
      "not vaild or not present this type\n"
     ]
    }
   ],
   "source": [
    "'''Question 4:\n",
    "Assuming that we have some email addresses in the \"username@companyname.com\" format, please write program to print the user name of a given email address. Both user names and company names are composed of letters only.\n",
    "Example:\n",
    "If the following email address is given as input to the program:\n",
    "john@google.com\n",
    "Then, the output of the program should be:\n",
    "john'''\n",
    "s=input(\"Enter the email id\")\n",
    "try:\n",
    "    i1=s.index('@')\n",
    "    print(\"Name is \",s[:i1])\n",
    "    try:\n",
    "        i2=s.index('.')\n",
    "        print(\"Company Name is \",s[i1+1:i2])\n",
    "    except Exception as e:\n",
    "        print(e)\n",
    "        print(\"not vaild or not present this type or not a company name  \")\n",
    "except Exception as e:\n",
    "    print(e)\n",
    "    print(\"not vaild or not present this type\")\n"
   ]
  },
  {
   "cell_type": "code",
   "execution_count": 10,
   "id": "e6e9a828",
   "metadata": {},
   "outputs": [
    {
     "name": "stdout",
     "output_type": "stream",
     "text": [
      "Enter the length5\n",
      "Area is  25\n"
     ]
    }
   ],
   "source": [
    "'''Question 5:\n",
    "Define a class named Shape and its subclass Square. The Square class has an\n",
    "init function which takes a length as argument. Both classes have a area function which can print the area of the shape where Shape's area is 0 by default.\n",
    "\n",
    "'''\n",
    "class Shape:\n",
    "    area=0\n",
    "    def areaCalculate(self):\n",
    "        print(\"Area is \",self.area)\n",
    "class Square(Shape):\n",
    "    def __init__(self,length):\n",
    "        self.length=length\n",
    "    def areaCalculate(self):\n",
    "        print(\"Area is \",self.length*self.length)\n",
    "\n",
    "cir=Square(int(input(\"Enter the length\")))\n",
    "cir.areaCalculate()"
   ]
  },
  {
   "cell_type": "code",
   "execution_count": null,
   "id": "d23e3505",
   "metadata": {},
   "outputs": [],
   "source": []
  }
 ],
 "metadata": {
  "kernelspec": {
   "display_name": "Python 3",
   "language": "python",
   "name": "python3"
  },
  "language_info": {
   "codemirror_mode": {
    "name": "ipython",
    "version": 3
   },
   "file_extension": ".py",
   "mimetype": "text/x-python",
   "name": "python",
   "nbconvert_exporter": "python",
   "pygments_lexer": "ipython3",
   "version": "3.8.8"
  }
 },
 "nbformat": 4,
 "nbformat_minor": 5
}
