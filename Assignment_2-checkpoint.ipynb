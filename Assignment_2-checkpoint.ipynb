{
 "cells": [
  {
   "cell_type": "markdown",
   "id": "available-welcome",
   "metadata": {},
   "source": [
    "(1).Two values of the Boolean data type is True and False.\n"
   ]
  },
  {
   "cell_type": "markdown",
   "id": "complicated-operation",
   "metadata": {},
   "source": [
    "(2).Types of boolean operator are 1. and 2.or 3.not"
   ]
  },
  {
   "cell_type": "markdown",
   "id": "special-prime",
   "metadata": {},
   "source": [
    "(3).\n",
    "and boolean operator\n",
    "x         y         x and y\n",
    "True     True         True\n",
    "True     False        False\n",
    "False    True         False\n",
    "False     False        False\n",
    "\n",
    "or boolean operator\n",
    "\n",
    "x         y         x or y\n",
    "True     True         True \n",
    "True     False         True  \n",
    "False     True         True\n",
    "False     False         False\n",
    "\n",
    "not boolean operator\n",
    "x          not x\n",
    "True         False\n",
    "False         True\n"
   ]
  },
  {
   "cell_type": "markdown",
   "id": "selected-mistress",
   "metadata": {},
   "source": [
    "(4).  (5>4)  and (3==5)   is False\n",
    "not(5>4)    is  False\n",
    "(5>4)  or (3==5)  is  True\n",
    "not((5>4)  or (3==5))   is True\n",
    "(True and True) and (True==False)   is False\n",
    "(not False) or (not True)  is True\n"
   ]
  },
  {
   "cell_type": "markdown",
   "id": "fewer-increase",
   "metadata": {},
   "source": [
    "(5).\n",
    "the 6 comparison operator is \n",
    "==  , !=   ,   >  ,<   ,   >=  ,<= "
   ]
  },
  {
   "cell_type": "markdown",
   "id": "executed-ancient",
   "metadata": {},
   "source": [
    "(6)  equal to operator  is written in  ==\n",
    "   and assignment operator is wriiten in =\n",
    "    when we have some variable is defined then value is store in the that variable we used to assignment\n",
    "    operator.\n",
    "    example   var=9\n",
    "    when we have some compression then we used to equal to operator \n",
    "    example   val==9"
   ]
  },
  {
   "cell_type": "markdown",
   "id": "fabulous-broadcast",
   "metadata": {},
   "source": [
    "(7) ans.\n",
    "'ham'\n",
    "'spam'\n",
    "'spam'"
   ]
  },
  {
   "cell_type": "code",
   "execution_count": 2,
   "id": "destroyed-prayer",
   "metadata": {},
   "outputs": [
    {
     "ename": "NameError",
     "evalue": "name 'spam' is not defined",
     "output_type": "error",
     "traceback": [
      "\u001b[1;31m---------------------------------------------------------------------------\u001b[0m",
      "\u001b[1;31mNameError\u001b[0m                                 Traceback (most recent call last)",
      "\u001b[1;32m<ipython-input-2-21221cd07eb0>\u001b[0m in \u001b[0;36m<module>\u001b[1;34m\u001b[0m\n\u001b[1;32m----> 1\u001b[1;33m \u001b[1;32mif\u001b[0m \u001b[0mspam\u001b[0m\u001b[1;33m==\u001b[0m\u001b[1;36m1\u001b[0m\u001b[1;33m:\u001b[0m\u001b[1;33m\u001b[0m\u001b[1;33m\u001b[0m\u001b[0m\n\u001b[0m\u001b[0;32m      2\u001b[0m     \u001b[0mprint\u001b[0m\u001b[1;33m(\u001b[0m\u001b[1;34m\"Hello\"\u001b[0m\u001b[1;33m)\u001b[0m\u001b[1;33m\u001b[0m\u001b[1;33m\u001b[0m\u001b[0m\n\u001b[0;32m      3\u001b[0m \u001b[1;32melif\u001b[0m \u001b[0mspam\u001b[0m\u001b[1;33m==\u001b[0m\u001b[1;36m2\u001b[0m\u001b[1;33m:\u001b[0m\u001b[1;33m\u001b[0m\u001b[1;33m\u001b[0m\u001b[0m\n\u001b[0;32m      4\u001b[0m     \u001b[0mprint\u001b[0m\u001b[1;33m(\u001b[0m\u001b[1;34m'Howdy'\u001b[0m\u001b[1;33m)\u001b[0m\u001b[1;33m\u001b[0m\u001b[1;33m\u001b[0m\u001b[0m\n\u001b[0;32m      5\u001b[0m \u001b[1;32melse\u001b[0m\u001b[1;33m:\u001b[0m\u001b[1;33m\u001b[0m\u001b[1;33m\u001b[0m\u001b[0m\n",
      "\u001b[1;31mNameError\u001b[0m: name 'spam' is not defined"
     ]
    }
   ],
   "source": [
    "(8).\n",
    "if spam==1:\n",
    "    print(\"Hello\")\n",
    "elif spam==2:\n",
    "    print('Howdy')\n",
    "else:\n",
    "    print(\"Greetings\")"
   ]
  },
  {
   "cell_type": "code",
   "execution_count": 4,
   "id": "ongoing-editing",
   "metadata": {},
   "outputs": [
    {
     "ename": "AttributeError",
     "evalue": "'int' object has no attribute 'ctrl'",
     "output_type": "error",
     "traceback": [
      "\u001b[1;31m---------------------------------------------------------------------------\u001b[0m",
      "\u001b[1;31mAttributeError\u001b[0m                            Traceback (most recent call last)",
      "\u001b[1;32m<ipython-input-4-3eb821264ea3>\u001b[0m in \u001b[0;36m<module>\u001b[1;34m\u001b[0m\n\u001b[1;32m----> 1\u001b[1;33m \u001b[1;33m(\u001b[0m\u001b[1;36m9\u001b[0m\u001b[1;33m)\u001b[0m\u001b[1;33m.\u001b[0m\u001b[0mctrl\u001b[0m\u001b[1;33m+\u001b[0m\u001b[0mc\u001b[0m\u001b[1;33m\u001b[0m\u001b[1;33m\u001b[0m\u001b[0m\n\u001b[0m",
      "\u001b[1;31mAttributeError\u001b[0m: 'int' object has no attribute 'ctrl'"
     ]
    }
   ],
   "source": [
    "(9).ctrl+c"
   ]
  },
  {
   "cell_type": "markdown",
   "id": "greater-australia",
   "metadata": {},
   "source": [
    "(10).\n",
    "break : it is used to when reach the goal and not need to execute again some specific block and\n",
    "condtion and other ways it is stop the iteration of anything.\n",
    "continue : it apply when we have to skip the some specfic statement or block like it is jump the without execute the statement where is applied.\n",
    "\n",
    "\n",
    "\n",
    "\n"
   ]
  },
  {
   "cell_type": "markdown",
   "id": "expired-acting",
   "metadata": {},
   "source": [
    " (11).\n",
    " Here is nothing difference between  range(10),range(0,10),range(0,10,1).only difference is syntax of\n",
    " range function all are gives the same values.generally range function is start with the 0 and exclude endposition and step value is 1 so this rule satisfied the all three syntax of range."
   ]
  },
  {
   "cell_type": "code",
   "execution_count": 3,
   "id": "billion-software",
   "metadata": {},
   "outputs": [
    {
     "name": "stdout",
     "output_type": "stream",
     "text": [
      "0\n",
      "1\n",
      "2\n",
      "3\n",
      "4\n",
      "5\n",
      "6\n",
      "7\n",
      "8\n",
      "9\n",
      "0\n",
      "1\n",
      "2\n",
      "3\n",
      "4\n",
      "5\n",
      "6\n",
      "7\n",
      "8\n",
      "9\n",
      "10\n"
     ]
    }
   ],
   "source": [
    "#(12).\n",
    "#using the for loop\n",
    "for i in range(10):\n",
    "    print(i)\n",
    "#using the while loop\n",
    "i=0\n",
    "while(i<11):\n",
    "    print(i)\n",
    "    i=i+1\n",
    "    \n",
    "    "
   ]
  },
  {
   "cell_type": "code",
   "execution_count": null,
   "id": "buried-insert",
   "metadata": {},
   "outputs": [],
   "source": [
    "import spam as sp\n",
    "sp.bacon()"
   ]
  },
  {
   "cell_type": "code",
   "execution_count": null,
   "id": "corporate-announcement",
   "metadata": {},
   "outputs": [],
   "source": []
  },
  {
   "cell_type": "code",
   "execution_count": null,
   "id": "economic-railway",
   "metadata": {},
   "outputs": [],
   "source": []
  },
  {
   "cell_type": "code",
   "execution_count": null,
   "id": "assisted-korea",
   "metadata": {},
   "outputs": [],
   "source": []
  },
  {
   "cell_type": "code",
   "execution_count": null,
   "id": "prime-stuart",
   "metadata": {},
   "outputs": [],
   "source": []
  }
 ],
 "metadata": {
  "kernelspec": {
   "display_name": "Python 3",
   "language": "python",
   "name": "python3"
  },
  "language_info": {
   "codemirror_mode": {
    "name": "ipython",
    "version": 3
   },
   "file_extension": ".py",
   "mimetype": "text/x-python",
   "name": "python",
   "nbconvert_exporter": "python",
   "pygments_lexer": "ipython3",
   "version": "3.9.2"
  }
 },
 "nbformat": 4,
 "nbformat_minor": 5
}
