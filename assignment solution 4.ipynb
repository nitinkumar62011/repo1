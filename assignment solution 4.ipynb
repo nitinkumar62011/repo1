{
 "cells": [
  {
   "cell_type": "code",
   "execution_count": null,
   "id": "third-aside",
   "metadata": {},
   "outputs": [],
   "source": [
    "1. [] is bigbracket but in python is a list and it is stored the data hetrogenious\n",
    "type and it is a orderd collection type of data. like a int,string float and object\n",
    "l=[4,\"nitin\",7.8]"
   ]
  },
  {
   "cell_type": "code",
   "execution_count": 7,
   "id": "white-prophet",
   "metadata": {},
   "outputs": [],
   "source": [
    "2. spam=[2,4,6,8,10]\n",
    "spam[2]=\"hello\" #assigin the third value in the list as a 'hello'\n"
   ]
  },
  {
   "cell_type": "code",
   "execution_count": 8,
   "id": "recorded-hybrid",
   "metadata": {},
   "outputs": [
    {
     "ename": "SyntaxError",
     "evalue": "invalid syntax (<ipython-input-8-2073fc1c42d4>, line 1)",
     "output_type": "error",
     "traceback": [
      "\u001b[1;36m  File \u001b[1;32m\"<ipython-input-8-2073fc1c42d4>\"\u001b[1;36m, line \u001b[1;32m1\u001b[0m\n\u001b[1;33m    3. spam[int(int('3' * 2) / 11)]\u001b[0m\n\u001b[1;37m       ^\u001b[0m\n\u001b[1;31mSyntaxError\u001b[0m\u001b[1;31m:\u001b[0m invalid syntax\n"
     ]
    }
   ],
   "source": [
    "3. spam=['a','b','c','d']\n",
    "spam[int(int('3' * 2) / 11)]\n",
    "spam[int(int('33')/11)]\n",
    "spam[int(11/3)]\n",
    "spam[int(3.0)]\n",
    "spam[3]\n",
    "ans is d"
   ]
  },
  {
   "cell_type": "code",
   "execution_count": null,
   "id": "postal-annotation",
   "metadata": {},
   "outputs": [],
   "source": [
    "4. spam[-1]\n",
    "answer is d"
   ]
  },
  {
   "cell_type": "code",
   "execution_count": null,
   "id": "mineral-essay",
   "metadata": {},
   "outputs": [],
   "source": [
    "5. spam[:2]\n",
    "answer is ['a','b']"
   ]
  },
  {
   "cell_type": "code",
   "execution_count": null,
   "id": "editorial-aviation",
   "metadata": {},
   "outputs": [],
   "source": [
    "6. bacon=[3.14, 'cat,' 11, 'cat,' True] \n",
    "bacon.index('cat')\n",
    "index of cat is 1"
   ]
  },
  {
   "cell_type": "code",
   "execution_count": null,
   "id": "behind-basket",
   "metadata": {},
   "outputs": [],
   "source": [
    "7.\n",
    "bacon.append(99)\n",
    "# it is single element  append in the last in the existing list"
   ]
  },
  {
   "cell_type": "code",
   "execution_count": null,
   "id": "delayed-creature",
   "metadata": {},
   "outputs": [],
   "source": [
    "8.\n",
    "bacon.remove('cat')\n",
    "# it is change the list based on the value if value is present it all element\n",
    "are shifted the respective of removing element otherwise it give the error if value is not\n",
    "present in the list"
   ]
  },
  {
   "cell_type": "code",
   "execution_count": null,
   "id": "surprising-finder",
   "metadata": {},
   "outputs": [],
   "source": [
    "9.list concatenation is +,appen(),extend()\n",
    "list replication is *\n",
    "example \n",
    "concatenation\n",
    "l=[1,2,3]\n",
    "l=l+[4,5]\n",
    "l.append(9)\n",
    "l.extend([5,6,7])\n",
    "replication\n",
    "l=[3,4,5]\n",
    "l*2\n"
   ]
  },
  {
   "cell_type": "code",
   "execution_count": null,
   "id": "prompt-suite",
   "metadata": {},
   "outputs": [],
   "source": [
    "10 .difference between the list methods append() and insert()are \n",
    "append() method only takes the object or element and its add in the last index of list\n",
    "insert() method it takes the index and object or value it is add the value based on the index if index is prsent then it is add\n",
    "the given postion and all element are shifted respective position if index is not present then simply add in the last .\n"
   ]
  },
  {
   "cell_type": "code",
   "execution_count": null,
   "id": "spoken-slovak",
   "metadata": {},
   "outputs": [],
   "source": [
    "11.Two methods for removing items from a list are list.remove() and list.pop()."
   ]
  },
  {
   "cell_type": "code",
   "execution_count": null,
   "id": "popular-lending",
   "metadata": {},
   "outputs": [],
   "source": [
    "12 .\n",
    "list value and string value are the almost is same but only difference is the\n",
    "list is mutable and string is immutable.\n",
    "in the both extract the value based on the index and slicing and both are the order\n",
    "value or object . \n",
    "\n",
    "\n"
   ]
  },
  {
   "cell_type": "code",
   "execution_count": null,
   "id": "curious-armstrong",
   "metadata": {},
   "outputs": [],
   "source": [
    "13. differnce between list and tuple are\n",
    "list is mutable and tuple is immutable  means based on the index not perform the\n",
    "any operaion in the tuple means not change the any value of any position only extract the value but in\n",
    "the we can do the all operation in the list. "
   ]
  },
  {
   "cell_type": "code",
   "execution_count": null,
   "id": "brown-daniel",
   "metadata": {},
   "outputs": [],
   "source": [
    "14 a=(42,)\n",
    "type(a)"
   ]
  },
  {
   "cell_type": "code",
   "execution_count": null,
   "id": "returning-regular",
   "metadata": {},
   "outputs": [],
   "source": [
    "15. by the typecasting of the value.\n",
    "a=[4,5,6]\n",
    "t=tuple(a)\n",
    "b=(2,3,4,5)\n",
    "l=list(b)"
   ]
  },
  {
   "cell_type": "code",
   "execution_count": null,
   "id": "applied-singapore",
   "metadata": {},
   "outputs": [],
   "source": [
    "16. in the list maybe contain string int float dictinory tuple and other things \n",
    "are contains beacuse list is object so it contain anything like it also contain nested\n",
    "list means list of list"
   ]
  },
  {
   "cell_type": "code",
   "execution_count": null,
   "id": "enabling-director",
   "metadata": {},
   "outputs": [],
   "source": [
    "17. copy.copy() it is a shallow copy it create the new object or new reference\n",
    "whatever change in the new object is not refelect in to the old object\n",
    "copy.deepcopy()  it is refelct in to the old object whenever any changes into the\n",
    "new object beaause it taking the same object reference it only create the value."
   ]
  }
 ],
 "metadata": {
  "kernelspec": {
   "display_name": "Python 3",
   "language": "python",
   "name": "python3"
  },
  "language_info": {
   "codemirror_mode": {
    "name": "ipython",
    "version": 3
   },
   "file_extension": ".py",
   "mimetype": "text/x-python",
   "name": "python",
   "nbconvert_exporter": "python",
   "pygments_lexer": "ipython3",
   "version": "3.9.2"
  }
 },
 "nbformat": 4,
 "nbformat_minor": 5
}
